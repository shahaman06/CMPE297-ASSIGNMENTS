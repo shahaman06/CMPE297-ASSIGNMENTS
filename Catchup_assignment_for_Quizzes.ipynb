{
  "cells": [
    {
      "cell_type": "markdown",
      "metadata": {
        "id": "view-in-github",
        "colab_type": "text"
      },
      "source": [
        "<a href=\"https://colab.research.google.com/github/shahaman06/CMPE297-ASSIGNMENTS/blob/main/Catchup_assignment_for_Quizzes.ipynb\" target=\"_parent\"><img src=\"https://colab.research.google.com/assets/colab-badge.svg\" alt=\"Open In Colab\"/></a>"
      ]
    },
    {
      "cell_type": "code",
      "execution_count": 1,
      "metadata": {
        "colab": {
          "base_uri": "https://localhost:8080/"
        },
        "id": "Aep1KMF6dqdm",
        "outputId": "0d911599-44be-4e42-fcc8-43491f8e5fde"
      },
      "outputs": [
        {
          "output_type": "stream",
          "name": "stdout",
          "text": [
            "  Installing build dependencies ... \u001b[?25l\u001b[?25hdone\n",
            "  Getting requirements to build wheel ... \u001b[?25l\u001b[?25hdone\n",
            "    Preparing wheel metadata ... \u001b[?25l\u001b[?25hdone\n",
            "\u001b[K     |████████████████████████████████| 7.6 MB 16.7 MB/s \n",
            "\u001b[K     |████████████████████████████████| 182 kB 72.0 MB/s \n",
            "\u001b[?25h  Building wheel for transformers (PEP 517) ... \u001b[?25l\u001b[?25hdone\n"
          ]
        }
      ],
      "source": [
        "!pip install --quiet git+https://github.com/huggingface/transformers.git"
      ]
    },
    {
      "cell_type": "code",
      "source": [
        "from transformers import GPT2Tokenizer, GPT2LMHeadModel\n",
        "from torch.cuda import is_available\n",
        "from prettytable import PrettyTable as pt\n",
        "\n",
        "device = 'cuda' if is_available() else 'cpu'"
      ],
      "metadata": {
        "id": "ioOhY93T5T3G"
      },
      "execution_count": 24,
      "outputs": []
    },
    {
      "cell_type": "code",
      "source": [
        "tokenizer = GPT2Tokenizer.from_pretrained('gpt2')\n",
        "model = GPT2LMHeadModel.from_pretrained('gpt2').to(device)"
      ],
      "metadata": {
        "id": "BgDF3FSA-rcJ"
      },
      "execution_count": 17,
      "outputs": []
    },
    {
      "cell_type": "code",
      "source": [
        "def generate_text(text):\n",
        "  encoded_input = tokenizer(text, return_tensors='pt')\n",
        "  output_sequences = model.generate(input_ids=encoded_input['input_ids'].to(device),max_new_tokens=len(text.split(\" \"))+10)\n",
        "  return tokenizer.decode(output_sequences[0], skip_special_tokens=True)"
      ],
      "metadata": {
        "id": "a8wIjEHEC1RL"
      },
      "execution_count": 21,
      "outputs": []
    },
    {
      "cell_type": "code",
      "source": [
        "inputs = []\n",
        "print(\"Enter Text generation prompts:\")\n",
        "for i in range(5):\n",
        "  inputs.append(input(\"Text Input \"+str(i+1)+\": \"))"
      ],
      "metadata": {
        "colab": {
          "base_uri": "https://localhost:8080/"
        },
        "id": "B80H1GGMAaov",
        "outputId": "e92b579f-6c85-4957-c1a1-169c4a85db8c"
      },
      "execution_count": 19,
      "outputs": [
        {
          "name": "stdout",
          "output_type": "stream",
          "text": [
            "Enter Text generation prompts:\n",
            "Text Input 1: How are you\n",
            "Text Input 2: I am exhausted\n",
            "Text Input 3: Aren't you bored\n",
            "Text Input 4: Hello, is anyone at home at this time of night\n",
            "Text Input 5: Go home dummy, you are stupid\n"
          ]
        }
      ]
    },
    {
      "cell_type": "code",
      "source": [
        "generated_text = [generate_text(i) for i in inputs]"
      ],
      "metadata": {
        "colab": {
          "base_uri": "https://localhost:8080/"
        },
        "id": "2SmtlqVLBcal",
        "outputId": "3dd3e2b2-452a-4f6c-e728-26ca7b3e3682"
      },
      "execution_count": 22,
      "outputs": [
        {
          "output_type": "stream",
          "name": "stderr",
          "text": [
            "The attention mask and the pad token id were not set. As a consequence, you may observe unexpected behavior. Please pass your input's `attention_mask` to obtain reliable results.\n",
            "Setting `pad_token_id` to `eos_token_id`:50256 for open-end generation.\n",
            "The attention mask and the pad token id were not set. As a consequence, you may observe unexpected behavior. Please pass your input's `attention_mask` to obtain reliable results.\n",
            "Setting `pad_token_id` to `eos_token_id`:50256 for open-end generation.\n",
            "The attention mask and the pad token id were not set. As a consequence, you may observe unexpected behavior. Please pass your input's `attention_mask` to obtain reliable results.\n",
            "Setting `pad_token_id` to `eos_token_id`:50256 for open-end generation.\n",
            "The attention mask and the pad token id were not set. As a consequence, you may observe unexpected behavior. Please pass your input's `attention_mask` to obtain reliable results.\n",
            "Setting `pad_token_id` to `eos_token_id`:50256 for open-end generation.\n",
            "The attention mask and the pad token id were not set. As a consequence, you may observe unexpected behavior. Please pass your input's `attention_mask` to obtain reliable results.\n",
            "Setting `pad_token_id` to `eos_token_id`:50256 for open-end generation.\n"
          ]
        }
      ]
    },
    {
      "cell_type": "code",
      "source": [
        "table = pt()\n",
        "table.field_names = [\"Original Text\",\"Generated Text\"]\n",
        "\n",
        "for i in range(5):\n",
        "  table.add_row((inputs[i],generated_text[i]))\n",
        "print(table)"
      ],
      "metadata": {
        "colab": {
          "base_uri": "https://localhost:8080/"
        },
        "id": "gZCgogp4EqO-",
        "outputId": "84e1a2a2-0b46-4141-8cda-58662522eb85"
      },
      "execution_count": 25,
      "outputs": [
        {
          "output_type": "stream",
          "name": "stdout",
          "text": [
            "+------------------------------------------------+-----------------------------------------------------------------+\n",
            "|                 Original Text                  |                          Generated Text                         |\n",
            "+------------------------------------------------+-----------------------------------------------------------------+\n",
            "|                  How are you                   |                        How are you doing?                       |\n",
            "|                                                |                                                                 |\n",
            "|                                                |                  I'm doing a lot of work on my                  |\n",
            "|                 I am exhausted                 | I am exhausted. I am exhausted. I am exhausted. I am exhausted. |\n",
            "|                Aren't you bored                |               Aren't you bored of the old school?               |\n",
            "|                                                |                                                                 |\n",
            "|                                                |                           I'm not. I'm                          |\n",
            "| Hello, is anyone at home at this time of night |         Hello, is anyone at home at this time of night?         |\n",
            "|                                                |                                                                 |\n",
            "|                                                |      I'm not sure if I'm going to be able to sleep, but I'm     |\n",
            "|         Go home dummy, you are stupid          |                  Go home dummy, you are stupid.                 |\n",
            "|                                                |                                                                 |\n",
            "|                                                |            I'm not going to lie, I'm not going to lie           |\n",
            "+------------------------------------------------+-----------------------------------------------------------------+\n"
          ]
        }
      ]
    },
    {
      "cell_type": "markdown",
      "source": [
        "References:\n",
        "\n",
        "1. https://huggingface.co/transformers/v2.10.0/model_doc/gpt2.html\n",
        "2. https://colab.research.google.com/drive/1qOjXfQIAULfKvZqwCen8-MoWKGdSatZ4"
      ],
      "metadata": {
        "id": "zW_bjY1yGwaF"
      }
    }
  ],
  "metadata": {
    "accelerator": "GPU",
    "colab": {
      "provenance": [],
      "include_colab_link": true
    },
    "gpuClass": "standard",
    "kernelspec": {
      "display_name": "Python 3",
      "name": "python3"
    },
    "language_info": {
      "name": "python"
    }
  },
  "nbformat": 4,
  "nbformat_minor": 0
}