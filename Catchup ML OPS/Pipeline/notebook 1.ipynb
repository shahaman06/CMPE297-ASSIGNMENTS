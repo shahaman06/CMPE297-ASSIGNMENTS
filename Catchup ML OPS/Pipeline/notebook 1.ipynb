{
 "cells": [
  {
   "cell_type": "markdown",
   "metadata": {},
   "source": [
    "# Using custom containers with AI Platform Training\n",
    "\n",
    "**Learning Objectives:**\n",
    "1. Learn how to create a train and a validation split with BigQuery\n",
    "1. Learn how to wrap a machine learning model into a Docker container and train in on AI Platform\n",
    "1. Learn how to use the hyperparameter tunning engine on Google Cloud to find the best hyperparameters\n",
    "1. Learn how to deploy a trained machine learning model Google Cloud as a rest API and query it\n",
    "\n",
    "In this lab, you develop a  multi-class classification model, package the model as a docker image, and run on **AI Platform Training** as a training application. The training application trains a multi-class classification model that predicts the type of forest cover from cartographic data. The [dataset](../../../datasets/covertype/README.md) used in the lab is based on **Covertype Data Set** from UCI Machine Learning Repository.\n",
    "\n",
    "Scikit-learn is one of the most useful libraries for machine learning in Python. The training code uses `scikit-learn` for data pre-processing and modeling. \n",
    "\n",
    "The code is instrumented using the `hypertune` package so it can be used with **AI Platform** hyperparameter tuning job in searching for the best combination of hyperparameter values by optimizing the metrics you specified.\n"
   ]
  },
  {
   "cell_type": "code",
   "execution_count": 48,
   "metadata": {},
   "outputs": [],
   "source": [
    "import json\n",
    "import os\n",
    "import numpy as np\n",
    "import pandas as pd\n",
    "import pickle\n",
    "import uuid\n",
    "import time\n",
    "import tempfile\n",
    "\n",
    "from googleapiclient import discovery\n",
    "from googleapiclient import errors\n",
    "\n",
    "from google.cloud import bigquery\n",
    "from jinja2 import Template\n",
    "from kfp.components import func_to_container_op\n",
    "from typing import NamedTuple\n",
    "\n",
    "from sklearn.metrics import accuracy_score\n",
    "from sklearn.model_selection import train_test_split\n",
    "from sklearn.linear_model import SGDClassifier\n",
    "from sklearn.pipeline import Pipeline\n",
    "from sklearn.preprocessing import StandardScaler, OneHotEncoder\n",
    "from sklearn.compose import ColumnTransformer"
   ]
  },
  {
   "cell_type": "markdown",
   "metadata": {},
   "source": [
    "Run the command in the cell below to install gcsfs package."
   ]
  },
  {
   "cell_type": "code",
   "execution_count": 49,
   "metadata": {},
   "outputs": [
    {
     "name": "stdout",
     "output_type": "stream",
     "text": [
      "Requirement already satisfied: gcsfs==0.8 in /opt/conda/lib/python3.7/site-packages (0.8.0)\n",
      "Requirement already satisfied: aiohttp in /opt/conda/lib/python3.7/site-packages (from gcsfs==0.8) (3.8.3)\n",
      "Requirement already satisfied: google-auth-oauthlib in /opt/conda/lib/python3.7/site-packages (from gcsfs==0.8) (0.7.1)\n",
      "Requirement already satisfied: requests in /opt/conda/lib/python3.7/site-packages (from gcsfs==0.8) (2.28.1)\n",
      "Requirement already satisfied: fsspec>=0.8.0 in /opt/conda/lib/python3.7/site-packages (from gcsfs==0.8) (2022.11.0)\n",
      "Requirement already satisfied: ujson in /opt/conda/lib/python3.7/site-packages (from gcsfs==0.8) (5.6.0)\n",
      "Requirement already satisfied: google-auth>=1.2 in /opt/conda/lib/python3.7/site-packages (from gcsfs==0.8) (2.15.0)\n",
      "Requirement already satisfied: decorator in /opt/conda/lib/python3.7/site-packages (from gcsfs==0.8) (5.1.1)\n",
      "Requirement already satisfied: rsa<5,>=3.1.4 in /opt/conda/lib/python3.7/site-packages (from google-auth>=1.2->gcsfs==0.8) (4.9)\n",
      "Requirement already satisfied: cachetools<6.0,>=2.0.0 in /opt/conda/lib/python3.7/site-packages (from google-auth>=1.2->gcsfs==0.8) (5.2.0)\n",
      "Requirement already satisfied: six>=1.9.0 in /opt/conda/lib/python3.7/site-packages (from google-auth>=1.2->gcsfs==0.8) (1.16.0)\n",
      "Requirement already satisfied: pyasn1-modules>=0.2.1 in /opt/conda/lib/python3.7/site-packages (from google-auth>=1.2->gcsfs==0.8) (0.2.8)\n",
      "Requirement already satisfied: yarl<2.0,>=1.0 in /opt/conda/lib/python3.7/site-packages (from aiohttp->gcsfs==0.8) (1.8.2)\n",
      "Requirement already satisfied: typing-extensions>=3.7.4 in /opt/conda/lib/python3.7/site-packages (from aiohttp->gcsfs==0.8) (4.4.0)\n",
      "Requirement already satisfied: charset-normalizer<3.0,>=2.0 in /opt/conda/lib/python3.7/site-packages (from aiohttp->gcsfs==0.8) (2.1.1)\n",
      "Requirement already satisfied: aiosignal>=1.1.2 in /opt/conda/lib/python3.7/site-packages (from aiohttp->gcsfs==0.8) (1.3.1)\n",
      "Requirement already satisfied: frozenlist>=1.1.1 in /opt/conda/lib/python3.7/site-packages (from aiohttp->gcsfs==0.8) (1.3.3)\n",
      "Requirement already satisfied: multidict<7.0,>=4.5 in /opt/conda/lib/python3.7/site-packages (from aiohttp->gcsfs==0.8) (6.0.3)\n",
      "Requirement already satisfied: attrs>=17.3.0 in /opt/conda/lib/python3.7/site-packages (from aiohttp->gcsfs==0.8) (22.1.0)\n",
      "Requirement already satisfied: async-timeout<5.0,>=4.0.0a3 in /opt/conda/lib/python3.7/site-packages (from aiohttp->gcsfs==0.8) (4.0.2)\n",
      "Requirement already satisfied: asynctest==0.13.0 in /opt/conda/lib/python3.7/site-packages (from aiohttp->gcsfs==0.8) (0.13.0)\n",
      "Requirement already satisfied: requests-oauthlib>=0.7.0 in /opt/conda/lib/python3.7/site-packages (from google-auth-oauthlib->gcsfs==0.8) (1.3.1)\n",
      "Requirement already satisfied: certifi>=2017.4.17 in /opt/conda/lib/python3.7/site-packages (from requests->gcsfs==0.8) (2022.12.7)\n",
      "Requirement already satisfied: urllib3<1.27,>=1.21.1 in /opt/conda/lib/python3.7/site-packages (from requests->gcsfs==0.8) (1.24.3)\n",
      "Requirement already satisfied: idna<4,>=2.5 in /opt/conda/lib/python3.7/site-packages (from requests->gcsfs==0.8) (3.4)\n",
      "Requirement already satisfied: pyasn1<0.5.0,>=0.4.6 in /opt/conda/lib/python3.7/site-packages (from pyasn1-modules>=0.2.1->google-auth>=1.2->gcsfs==0.8) (0.4.8)\n",
      "Requirement already satisfied: oauthlib>=3.0.0 in /opt/conda/lib/python3.7/site-packages (from requests-oauthlib>=0.7.0->google-auth-oauthlib->gcsfs==0.8) (3.2.2)\n",
      "\u001b[33mWARNING: Running pip as the 'root' user can result in broken permissions and conflicting behaviour with the system package manager. It is recommended to use a virtual environment instead: https://pip.pypa.io/warnings/venv\u001b[0m\u001b[33m\n",
      "\u001b[0mNote: you may need to restart the kernel to use updated packages.\n"
     ]
    }
   ],
   "source": [
    "%pip install gcsfs==0.8"
   ]
  },
  {
   "cell_type": "markdown",
   "metadata": {},
   "source": [
    "## Prepare lab dataset\n",
    "\n",
    "Set environment variable so that we can use them throughout the entire lab.\n",
    "\n",
    "The pipeline ingests data from BigQuery. The cell below uploads the Covertype dataset to BigQuery.\n"
   ]
  },
  {
   "cell_type": "code",
   "execution_count": 50,
   "metadata": {},
   "outputs": [],
   "source": [
    "# PROJECT_ID = !(gcloud config get-value core/project)\n",
    "# PROJECT_ID = PROJECT_ID[0]\n",
    "# DATASET_ID='covertype_dataset'\n",
    "# DATASET_LOCATION='US'\n",
    "# TABLE_ID='covertype'\n",
    "# DATA_SOURCE='gs://assignment-covertype/small/dataset.csv'\n",
    "# SCHEMA='Elevation:INTEGER,Aspect:INTEGER,Slope:INTEGER,Horizontal_Distance_To_Hydrology:INTEGER,Vertical_Distance_To_Hydrology:INTEGER,Horizontal_Distance_To_Roadways:INTEGER,Hillshade_9am:INTEGER,Hillshade_Noon:INTEGER,Hillshade_3pm:INTEGER,Horizontal_Distance_To_Fire_Points:INTEGER,Wilderness_Area:STRING,Soil_Type:STRING,Cover_Type:INTEGER'\n"
   ]
  },
  {
   "cell_type": "markdown",
   "metadata": {},
   "source": [
    "Next, create the BigQuery dataset and upload the Covertype csv data into a table.\n"
   ]
  },
  {
   "cell_type": "code",
   "execution_count": 51,
   "metadata": {},
   "outputs": [],
   "source": [
    "# !bq --location=$DATASET_LOCATION --project_id=$PROJECT_ID mk --dataset $DATASET_ID"
   ]
  },
  {
   "cell_type": "code",
   "execution_count": 52,
   "metadata": {},
   "outputs": [],
   "source": [
    "# !bq --project_id=$PROJECT_ID --dataset_id=$DATASET_ID load \\\n",
    "# --source_format=CSV \\\n",
    "# --skip_leading_rows=1 \\\n",
    "# --replace \\\n",
    "# $TABLE_ID \\\n",
    "# $DATA_SOURCE \\\n",
    "# $SCHEMA\n"
   ]
  },
  {
   "cell_type": "markdown",
   "metadata": {},
   "source": [
    "## Configure environment settings"
   ]
  },
  {
   "cell_type": "markdown",
   "metadata": {},
   "source": [
    "Set location paths, connections strings, and other environment settings. Make sure to update   `REGION`, and `ARTIFACT_STORE`  with the settings reflecting your lab environment. \n",
    "\n",
    "- `REGION` - the compute region for AI Platform Training and Prediction\n",
    "- `ARTIFACT_STORE` - the Cloud Storage bucket created during installation of AI Platform Pipelines. The bucket name starts with the `qwiklabs-gcp-xx-xxxxxxx-kubeflowpipelines-default` prefix.\n",
    "\n",
    " Run gsutil ls without URLs to list all of the Cloud Storage buckets under your default project ID. "
   ]
  },
  {
   "cell_type": "code",
   "execution_count": 53,
   "metadata": {},
   "outputs": [
    {
     "name": "stdout",
     "output_type": "stream",
     "text": [
      "gs://artifacts.assignment-371420.appspot.com/\n",
      "gs://assignment-371420-kubeflowpipelines-default/\n",
      "gs://assignment-371420_cloudbuild/\n",
      "gs://assignment-covertype/\n"
     ]
    }
   ],
   "source": [
    "!gsutil ls"
   ]
  },
  {
   "cell_type": "markdown",
   "metadata": {},
   "source": [
    "**HINT:** For ARTIFACT_STORE, copy the bucket name which starts with the qwiklabs-gcp-xx-xxxxxxx-kubeflowpipelines-default prefix from the previous cell output. \n",
    "\n",
    "Your copied value should look like 'gs://qwiklabs-gcp-xx-xxxxxxx-kubeflowpipelines-default')."
   ]
  },
  {
   "cell_type": "code",
   "execution_count": 54,
   "metadata": {},
   "outputs": [],
   "source": [
    "REGION = 'us-central1'\n",
    "ARTIFACT_STORE = 'gs://artifacts.assignment-371420.appspot.com' # TO DO: REPLACE WITH YOUR ARTIFACT_STORE NAME\n",
    "\n",
    "PROJECT_ID = !(gcloud config get-value core/project)\n",
    "PROJECT_ID = PROJECT_ID[0]\n",
    "DATA_ROOT='{}/data'.format(ARTIFACT_STORE)\n",
    "JOB_DIR_ROOT='{}/jobs'.format(ARTIFACT_STORE)\n",
    "TRAINING_FILE_PATH='{}/{}/{}'.format(DATA_ROOT, 'training', 'dataset.csv')\n",
    "VALIDATION_FILE_PATH='{}/{}/{}'.format(DATA_ROOT, 'validation', 'dataset.csv')"
   ]
  },
  {
   "cell_type": "markdown",
   "metadata": {},
   "source": [
    "## Explore the Covertype dataset \n",
    "\n",
    "Run the query statement below to scan covertype_dataset.covertype table in BigQuery and return the computed result rows."
   ]
  },
  {
   "cell_type": "code",
   "execution_count": 55,
   "metadata": {},
   "outputs": [
    {
     "data": {
      "application/vnd.jupyter.widget-view+json": {
       "model_id": "e8078fa970034f5da561c6169f4a0b21",
       "version_major": 2,
       "version_minor": 0
      },
      "text/plain": [
       "Query is running:   0%|          |"
      ]
     },
     "metadata": {},
     "output_type": "display_data"
    },
    {
     "data": {
      "application/vnd.jupyter.widget-view+json": {
       "model_id": "e152eacf3aa347c7bcfd30dfa3833574",
       "version_major": 2,
       "version_minor": 0
      },
      "text/plain": [
       "Downloading:   0%|          |"
      ]
     },
     "metadata": {},
     "output_type": "display_data"
    },
    {
     "data": {
      "text/html": [
       "<div>\n",
       "<style scoped>\n",
       "    .dataframe tbody tr th:only-of-type {\n",
       "        vertical-align: middle;\n",
       "    }\n",
       "\n",
       "    .dataframe tbody tr th {\n",
       "        vertical-align: top;\n",
       "    }\n",
       "\n",
       "    .dataframe thead th {\n",
       "        text-align: right;\n",
       "    }\n",
       "</style>\n",
       "<table border=\"1\" class=\"dataframe\">\n",
       "  <thead>\n",
       "    <tr style=\"text-align: right;\">\n",
       "      <th></th>\n",
       "      <th>Elevation</th>\n",
       "      <th>Aspect</th>\n",
       "      <th>Slope</th>\n",
       "      <th>Horizontal_Distance_To_Hydrology</th>\n",
       "      <th>Vertical_Distance_To_Hydrology</th>\n",
       "      <th>Horizontal_Distance_To_Roadways</th>\n",
       "      <th>Hillshade_9am</th>\n",
       "      <th>Hillshade_Noon</th>\n",
       "      <th>Hillshade_3pm</th>\n",
       "      <th>Horizontal_Distance_To_Fire_Points</th>\n",
       "      <th>Wilderness_Area</th>\n",
       "      <th>Soil_Type</th>\n",
       "      <th>Cover_Type</th>\n",
       "    </tr>\n",
       "  </thead>\n",
       "  <tbody>\n",
       "    <tr>\n",
       "      <th>0</th>\n",
       "      <td>2146</td>\n",
       "      <td>256</td>\n",
       "      <td>34</td>\n",
       "      <td>150</td>\n",
       "      <td>62</td>\n",
       "      <td>1253</td>\n",
       "      <td>122</td>\n",
       "      <td>237</td>\n",
       "      <td>239</td>\n",
       "      <td>511</td>\n",
       "      <td>Cache</td>\n",
       "      <td>C2702</td>\n",
       "      <td>2</td>\n",
       "    </tr>\n",
       "    <tr>\n",
       "      <th>1</th>\n",
       "      <td>2582</td>\n",
       "      <td>256</td>\n",
       "      <td>19</td>\n",
       "      <td>400</td>\n",
       "      <td>121</td>\n",
       "      <td>2322</td>\n",
       "      <td>173</td>\n",
       "      <td>248</td>\n",
       "      <td>212</td>\n",
       "      <td>402</td>\n",
       "      <td>Commanche</td>\n",
       "      <td>C2703</td>\n",
       "      <td>2</td>\n",
       "    </tr>\n",
       "    <tr>\n",
       "      <th>2</th>\n",
       "      <td>2510</td>\n",
       "      <td>256</td>\n",
       "      <td>27</td>\n",
       "      <td>182</td>\n",
       "      <td>113</td>\n",
       "      <td>335</td>\n",
       "      <td>146</td>\n",
       "      <td>244</td>\n",
       "      <td>229</td>\n",
       "      <td>323</td>\n",
       "      <td>Commanche</td>\n",
       "      <td>C2705</td>\n",
       "      <td>2</td>\n",
       "    </tr>\n",
       "    <tr>\n",
       "      <th>3</th>\n",
       "      <td>2442</td>\n",
       "      <td>256</td>\n",
       "      <td>33</td>\n",
       "      <td>120</td>\n",
       "      <td>52</td>\n",
       "      <td>458</td>\n",
       "      <td>127</td>\n",
       "      <td>238</td>\n",
       "      <td>238</td>\n",
       "      <td>443</td>\n",
       "      <td>Commanche</td>\n",
       "      <td>C2705</td>\n",
       "      <td>2</td>\n",
       "    </tr>\n",
       "    <tr>\n",
       "      <th>4</th>\n",
       "      <td>2823</td>\n",
       "      <td>256</td>\n",
       "      <td>22</td>\n",
       "      <td>360</td>\n",
       "      <td>42</td>\n",
       "      <td>1530</td>\n",
       "      <td>162</td>\n",
       "      <td>247</td>\n",
       "      <td>219</td>\n",
       "      <td>1415</td>\n",
       "      <td>Commanche</td>\n",
       "      <td>C2705</td>\n",
       "      <td>1</td>\n",
       "    </tr>\n",
       "    <tr>\n",
       "      <th>...</th>\n",
       "      <td>...</td>\n",
       "      <td>...</td>\n",
       "      <td>...</td>\n",
       "      <td>...</td>\n",
       "      <td>...</td>\n",
       "      <td>...</td>\n",
       "      <td>...</td>\n",
       "      <td>...</td>\n",
       "      <td>...</td>\n",
       "      <td>...</td>\n",
       "      <td>...</td>\n",
       "      <td>...</td>\n",
       "      <td>...</td>\n",
       "    </tr>\n",
       "    <tr>\n",
       "      <th>99995</th>\n",
       "      <td>3079</td>\n",
       "      <td>255</td>\n",
       "      <td>12</td>\n",
       "      <td>85</td>\n",
       "      <td>14</td>\n",
       "      <td>5527</td>\n",
       "      <td>192</td>\n",
       "      <td>247</td>\n",
       "      <td>193</td>\n",
       "      <td>2423</td>\n",
       "      <td>Rawah</td>\n",
       "      <td>C7202</td>\n",
       "      <td>1</td>\n",
       "    </tr>\n",
       "    <tr>\n",
       "      <th>99996</th>\n",
       "      <td>2745</td>\n",
       "      <td>255</td>\n",
       "      <td>12</td>\n",
       "      <td>60</td>\n",
       "      <td>11</td>\n",
       "      <td>1486</td>\n",
       "      <td>192</td>\n",
       "      <td>247</td>\n",
       "      <td>193</td>\n",
       "      <td>2440</td>\n",
       "      <td>Rawah</td>\n",
       "      <td>C7745</td>\n",
       "      <td>4</td>\n",
       "    </tr>\n",
       "    <tr>\n",
       "      <th>99997</th>\n",
       "      <td>2999</td>\n",
       "      <td>255</td>\n",
       "      <td>12</td>\n",
       "      <td>342</td>\n",
       "      <td>-29</td>\n",
       "      <td>2350</td>\n",
       "      <td>192</td>\n",
       "      <td>247</td>\n",
       "      <td>193</td>\n",
       "      <td>1310</td>\n",
       "      <td>Commanche</td>\n",
       "      <td>C7755</td>\n",
       "      <td>1</td>\n",
       "    </tr>\n",
       "    <tr>\n",
       "      <th>99998</th>\n",
       "      <td>3153</td>\n",
       "      <td>255</td>\n",
       "      <td>12</td>\n",
       "      <td>404</td>\n",
       "      <td>116</td>\n",
       "      <td>2139</td>\n",
       "      <td>192</td>\n",
       "      <td>247</td>\n",
       "      <td>193</td>\n",
       "      <td>994</td>\n",
       "      <td>Commanche</td>\n",
       "      <td>C7756</td>\n",
       "      <td>1</td>\n",
       "    </tr>\n",
       "    <tr>\n",
       "      <th>99999</th>\n",
       "      <td>3248</td>\n",
       "      <td>255</td>\n",
       "      <td>12</td>\n",
       "      <td>730</td>\n",
       "      <td>113</td>\n",
       "      <td>725</td>\n",
       "      <td>192</td>\n",
       "      <td>247</td>\n",
       "      <td>193</td>\n",
       "      <td>2724</td>\n",
       "      <td>Commanche</td>\n",
       "      <td>C7756</td>\n",
       "      <td>1</td>\n",
       "    </tr>\n",
       "  </tbody>\n",
       "</table>\n",
       "<p>100000 rows × 13 columns</p>\n",
       "</div>"
      ],
      "text/plain": [
       "       Elevation  Aspect  Slope  Horizontal_Distance_To_Hydrology  \\\n",
       "0           2146     256     34                               150   \n",
       "1           2582     256     19                               400   \n",
       "2           2510     256     27                               182   \n",
       "3           2442     256     33                               120   \n",
       "4           2823     256     22                               360   \n",
       "...          ...     ...    ...                               ...   \n",
       "99995       3079     255     12                                85   \n",
       "99996       2745     255     12                                60   \n",
       "99997       2999     255     12                               342   \n",
       "99998       3153     255     12                               404   \n",
       "99999       3248     255     12                               730   \n",
       "\n",
       "       Vertical_Distance_To_Hydrology  Horizontal_Distance_To_Roadways  \\\n",
       "0                                  62                             1253   \n",
       "1                                 121                             2322   \n",
       "2                                 113                              335   \n",
       "3                                  52                              458   \n",
       "4                                  42                             1530   \n",
       "...                               ...                              ...   \n",
       "99995                              14                             5527   \n",
       "99996                              11                             1486   \n",
       "99997                             -29                             2350   \n",
       "99998                             116                             2139   \n",
       "99999                             113                              725   \n",
       "\n",
       "       Hillshade_9am  Hillshade_Noon  Hillshade_3pm  \\\n",
       "0                122             237            239   \n",
       "1                173             248            212   \n",
       "2                146             244            229   \n",
       "3                127             238            238   \n",
       "4                162             247            219   \n",
       "...              ...             ...            ...   \n",
       "99995            192             247            193   \n",
       "99996            192             247            193   \n",
       "99997            192             247            193   \n",
       "99998            192             247            193   \n",
       "99999            192             247            193   \n",
       "\n",
       "       Horizontal_Distance_To_Fire_Points Wilderness_Area Soil_Type  \\\n",
       "0                                     511           Cache     C2702   \n",
       "1                                     402       Commanche     C2703   \n",
       "2                                     323       Commanche     C2705   \n",
       "3                                     443       Commanche     C2705   \n",
       "4                                    1415       Commanche     C2705   \n",
       "...                                   ...             ...       ...   \n",
       "99995                                2423           Rawah     C7202   \n",
       "99996                                2440           Rawah     C7745   \n",
       "99997                                1310       Commanche     C7755   \n",
       "99998                                 994       Commanche     C7756   \n",
       "99999                                2724       Commanche     C7756   \n",
       "\n",
       "       Cover_Type  \n",
       "0               2  \n",
       "1               2  \n",
       "2               2  \n",
       "3               2  \n",
       "4               1  \n",
       "...           ...  \n",
       "99995           1  \n",
       "99996           4  \n",
       "99997           1  \n",
       "99998           1  \n",
       "99999           1  \n",
       "\n",
       "[100000 rows x 13 columns]"
      ]
     },
     "execution_count": 55,
     "metadata": {},
     "output_type": "execute_result"
    }
   ],
   "source": [
    "%%bigquery\n",
    "SELECT *\n",
    "FROM `covertype_dataset.covertype`"
   ]
  },
  {
   "cell_type": "markdown",
   "metadata": {},
   "source": [
    "## Create training and validation splits\n",
    "\n",
    "Use BigQuery to sample training and validation splits and save them to Cloud Storage.\n",
    "### Create a training split\n",
    "\n",
    "Run the query below in order to have repeatable sampling of the data in BigQuery. Note that `FARM_FINGERPRINT()` is used on the field that you are going to split your data. It creates a training split that takes 80% of the data using the `bq` command and exports this split into the BigQuery table of `covertype_dataset.training`."
   ]
  },
  {
   "cell_type": "code",
   "execution_count": 56,
   "metadata": {},
   "outputs": [
    {
     "name": "stdout",
     "output_type": "stream",
     "text": [
      "Waiting on bqjob_r5c8acd1d6c17a668_000001850d971269_1 ... (2s) Current status: DONE   \n"
     ]
    }
   ],
   "source": [
    "!bq query \\\n",
    "-n 0 \\\n",
    "--destination_table covertype_dataset.training \\\n",
    "--replace \\\n",
    "--use_legacy_sql=false \\\n",
    "'SELECT * \\\n",
    "FROM `covertype_dataset.covertype` AS cover \\\n",
    "WHERE \\\n",
    "MOD(ABS(FARM_FINGERPRINT(TO_JSON_STRING(cover))), 10) IN (1, 2, 3, 4)' "
   ]
  },
  {
   "cell_type": "markdown",
   "metadata": {},
   "source": [
    "Use the bq extract command to export the BigQuery training table to GCS at $TRAINING_FILE_PATH."
   ]
  },
  {
   "cell_type": "code",
   "execution_count": 57,
   "metadata": {},
   "outputs": [
    {
     "name": "stdout",
     "output_type": "stream",
     "text": [
      "Waiting on bqjob_r47ff6c6a17f693c9_000001850d972b74_1 ... (0s) Current status: DONE   \n"
     ]
    }
   ],
   "source": [
    "!bq extract \\\n",
    "--destination_format CSV \\\n",
    "covertype_dataset.training \\\n",
    "$TRAINING_FILE_PATH"
   ]
  },
  {
   "cell_type": "markdown",
   "metadata": {},
   "source": [
    "### Create a validation split\n",
    "\n",
    "Run the query below to create a validation split that takes 10% of the data using the `bq` command and export this split into the BigQuery table `covertype_dataset.validation`.\n",
    "\n",
    "In the second cell, use the `bq` command to export that BigQuery validation table to GCS at `$VALIDATION_FILE_PATH.`"
   ]
  },
  {
   "cell_type": "code",
   "execution_count": 58,
   "metadata": {},
   "outputs": [
    {
     "name": "stdout",
     "output_type": "stream",
     "text": [
      "Waiting on bqjob_r46f73c5c6cbf0a16_000001850d973ba8_1 ... (1s) Current status: DONE   \n"
     ]
    }
   ],
   "source": [
    "!bq query \\\n",
    "-n 0 \\\n",
    "--destination_table covertype_dataset.validation \\\n",
    "--replace \\\n",
    "--use_legacy_sql=false \\\n",
    "'SELECT * \\\n",
    "FROM `covertype_dataset.covertype` AS cover \\\n",
    "WHERE \\\n",
    "MOD(ABS(FARM_FINGERPRINT(TO_JSON_STRING(cover))), 10) IN (8)' "
   ]
  },
  {
   "cell_type": "code",
   "execution_count": 59,
   "metadata": {},
   "outputs": [
    {
     "name": "stdout",
     "output_type": "stream",
     "text": [
      "Waiting on bqjob_r5b949a58b1e12fb0_000001850d975051_1 ... (0s) Current status: DONE   \n"
     ]
    }
   ],
   "source": [
    "!bq extract \\\n",
    "--destination_format CSV \\\n",
    "covertype_dataset.validation \\\n",
    "$VALIDATION_FILE_PATH"
   ]
  },
  {
   "cell_type": "code",
   "execution_count": 60,
   "metadata": {},
   "outputs": [
    {
     "data": {
      "text/plain": [
       "'gs://artifacts.assignment-371420.appspot.com/data/training/dataset.csv'"
      ]
     },
     "execution_count": 60,
     "metadata": {},
     "output_type": "execute_result"
    }
   ],
   "source": [
    "TRAINING_FILE_PATH"
   ]
  },
  {
   "cell_type": "code",
   "execution_count": 61,
   "metadata": {},
   "outputs": [
    {
     "name": "stdout",
     "output_type": "stream",
     "text": [
      "(39919, 13)\n",
      "(10023, 13)\n"
     ]
    }
   ],
   "source": [
    "df_train = pd.read_csv(TRAINING_FILE_PATH)\n",
    "df_validation = pd.read_csv(VALIDATION_FILE_PATH)\n",
    "print(df_train.shape)\n",
    "print(df_validation.shape)"
   ]
  },
  {
   "cell_type": "markdown",
   "metadata": {},
   "source": [
    "## Develop a training application"
   ]
  },
  {
   "cell_type": "markdown",
   "metadata": {},
   "source": [
    "### Configure the `sklearn` training pipeline.\n",
    "\n",
    "The training pipeline preprocesses data by standardizing all numeric features using `sklearn.preprocessing.StandardScaler` and encoding all categorical features using `sklearn.preprocessing.OneHotEncoder`. It uses stochastic gradient descent linear classifier (`SGDClassifier`) for modeling."
   ]
  },
  {
   "cell_type": "code",
   "execution_count": 62,
   "metadata": {},
   "outputs": [],
   "source": [
    "numeric_feature_indexes = slice(0, 10)\n",
    "categorical_feature_indexes = slice(10, 12)\n",
    "\n",
    "preprocessor = ColumnTransformer(\n",
    "    transformers=[\n",
    "        ('num', StandardScaler(), numeric_feature_indexes),\n",
    "        ('cat', OneHotEncoder(), categorical_feature_indexes) \n",
    "    ])\n",
    "\n",
    "pipeline = Pipeline([\n",
    "    ('preprocessor', preprocessor),\n",
    "    ('classifier', SGDClassifier(loss='log', tol=1e-3))\n",
    "])"
   ]
  },
  {
   "cell_type": "markdown",
   "metadata": {},
   "source": [
    "### Convert all numeric features to `float64`\n",
    "\n",
    "To avoid warning messages from `StandardScaler` all numeric features are converted to `float64`."
   ]
  },
  {
   "cell_type": "code",
   "execution_count": 63,
   "metadata": {},
   "outputs": [],
   "source": [
    "num_features_type_map = {feature: 'float64' for feature in df_train.columns[numeric_feature_indexes]}\n",
    "\n",
    "df_train = df_train.astype(num_features_type_map)\n",
    "df_validation = df_validation.astype(num_features_type_map)"
   ]
  },
  {
   "cell_type": "markdown",
   "metadata": {},
   "source": [
    "### Run the pipeline locally."
   ]
  },
  {
   "cell_type": "code",
   "execution_count": 64,
   "metadata": {},
   "outputs": [
    {
     "data": {
      "text/plain": [
       "Pipeline(steps=[('preprocessor',\n",
       "                 ColumnTransformer(transformers=[('num', StandardScaler(),\n",
       "                                                  slice(0, 10, None)),\n",
       "                                                 ('cat', OneHotEncoder(),\n",
       "                                                  slice(10, 12, None))])),\n",
       "                ('classifier',\n",
       "                 SGDClassifier(alpha=0.001, loss='log', max_iter=200))])"
      ]
     },
     "execution_count": 64,
     "metadata": {},
     "output_type": "execute_result"
    }
   ],
   "source": [
    "X_train = df_train.drop('Cover_Type', axis=1)\n",
    "y_train = df_train['Cover_Type']\n",
    "X_validation = df_validation.drop('Cover_Type', axis=1)\n",
    "y_validation = df_validation['Cover_Type']\n",
    "\n",
    "pipeline.set_params(classifier__alpha=0.001, classifier__max_iter=200)\n",
    "pipeline.fit(X_train, y_train)"
   ]
  },
  {
   "cell_type": "markdown",
   "metadata": {},
   "source": [
    "### Calculate the trained model's accuracy."
   ]
  },
  {
   "cell_type": "code",
   "execution_count": 65,
   "metadata": {},
   "outputs": [
    {
     "name": "stdout",
     "output_type": "stream",
     "text": [
      "0.6930060860021949\n"
     ]
    }
   ],
   "source": [
    "accuracy = pipeline.score(X_validation, y_validation)\n",
    "print(accuracy)"
   ]
  },
  {
   "cell_type": "markdown",
   "metadata": {},
   "source": [
    "### Prepare the hyperparameter tuning application.\n",
    "Since the training run on this dataset is computationally expensive you can benefit from running a distributed hyperparameter tuning job on AI Platform Training."
   ]
  },
  {
   "cell_type": "code",
   "execution_count": 66,
   "metadata": {},
   "outputs": [],
   "source": [
    "TRAINING_APP_FOLDER = 'training_app'\n",
    "os.makedirs(TRAINING_APP_FOLDER, exist_ok=True)"
   ]
  },
  {
   "cell_type": "markdown",
   "metadata": {},
   "source": [
    "### Write the tuning script. \n",
    "\n",
    "Notice the use of the `hypertune` package to report the `accuracy` optimization metric to AI Platform hyperparameter tuning service."
   ]
  },
  {
   "cell_type": "code",
   "execution_count": 67,
   "metadata": {},
   "outputs": [
    {
     "name": "stdout",
     "output_type": "stream",
     "text": [
      "Overwriting training_app/train.py\n"
     ]
    }
   ],
   "source": [
    "%%writefile {TRAINING_APP_FOLDER}/train.py\n",
    "\n",
    "# Copyright 2019 Google Inc. All Rights Reserved.\n",
    "#\n",
    "# Licensed under the Apache License, Version 2.0 (the \"License\");\n",
    "# you may not use this file except in compliance with the License.\n",
    "# You may obtain a copy of the License at\n",
    "#\n",
    "#            http://www.apache.org/licenses/LICENSE-2.0\n",
    "#\n",
    "# Unless required by applicable law or agreed to in writing, software\n",
    "# distributed under the License is distributed on an \"AS IS\" BASIS,\n",
    "# WITHOUT WARRANTIES OR CONDITIONS OF ANY KIND, either express or implied.\n",
    "# See the License for the specific language governing permissions and\n",
    "# limitations under the License.\n",
    "\n",
    "import os\n",
    "import subprocess\n",
    "import sys\n",
    "\n",
    "import fire\n",
    "import pickle\n",
    "import numpy as np\n",
    "import pandas as pd\n",
    "\n",
    "import hypertune\n",
    "\n",
    "from sklearn.compose import ColumnTransformer\n",
    "from sklearn.linear_model import SGDClassifier\n",
    "from sklearn.pipeline import Pipeline\n",
    "from sklearn.preprocessing import StandardScaler, OneHotEncoder\n",
    "\n",
    "\n",
    "def train_evaluate(job_dir, training_dataset_path, validation_dataset_path, alpha, max_iter, hptune):\n",
    "    \n",
    "    df_train = pd.read_csv(training_dataset_path)\n",
    "    df_validation = pd.read_csv(validation_dataset_path)\n",
    "\n",
    "    if not hptune:\n",
    "        df_train = pd.concat([df_train, df_validation])\n",
    "\n",
    "    numeric_feature_indexes = slice(0, 10)\n",
    "    categorical_feature_indexes = slice(10, 12)\n",
    "\n",
    "    preprocessor = ColumnTransformer(\n",
    "    transformers=[\n",
    "        ('num', StandardScaler(), numeric_feature_indexes),\n",
    "        ('cat', OneHotEncoder(), categorical_feature_indexes) \n",
    "    ])\n",
    "\n",
    "    pipeline = Pipeline([\n",
    "        ('preprocessor', preprocessor),\n",
    "        ('classifier', SGDClassifier(loss='log',tol=1e-3))\n",
    "    ])\n",
    "\n",
    "    num_features_type_map = {feature: 'float64' for feature in df_train.columns[numeric_feature_indexes]}\n",
    "    df_train = df_train.astype(num_features_type_map)\n",
    "    df_validation = df_validation.astype(num_features_type_map) \n",
    "\n",
    "    print('Starting training: alpha={}, max_iter={}'.format(alpha, max_iter))\n",
    "    X_train = df_train.drop('Cover_Type', axis=1)\n",
    "    y_train = df_train['Cover_Type']\n",
    "\n",
    "    pipeline.set_params(classifier__alpha=alpha, classifier__max_iter=max_iter)\n",
    "    pipeline.fit(X_train, y_train)\n",
    "\n",
    "    if hptune:\n",
    "        X_validation = df_validation.drop('Cover_Type', axis=1)\n",
    "        y_validation = df_validation['Cover_Type']\n",
    "        accuracy = pipeline.score(X_validation, y_validation)\n",
    "        print('Model accuracy: {}'.format(accuracy))\n",
    "        # Log it with hypertune\n",
    "        hpt = hypertune.HyperTune()\n",
    "        hpt.report_hyperparameter_tuning_metric(\n",
    "          hyperparameter_metric_tag='accuracy',\n",
    "          metric_value=accuracy\n",
    "        )\n",
    "\n",
    "    # Save the model\n",
    "    if not hptune:\n",
    "        model_filename = 'model.pkl'\n",
    "        with open(model_filename, 'wb') as model_file:\n",
    "            pickle.dump(pipeline, model_file)\n",
    "        gcs_model_path = \"{}/{}\".format(job_dir, model_filename)\n",
    "        subprocess.check_call(['gsutil', 'cp', model_filename, gcs_model_path], stderr=sys.stdout)\n",
    "        print(\"Saved model in: {}\".format(gcs_model_path)) \n",
    "    \n",
    "if __name__ == \"__main__\":\n",
    "    fire.Fire(train_evaluate)"
   ]
  },
  {
   "cell_type": "markdown",
   "metadata": {},
   "source": [
    "### Package the script into a docker image.\n",
    "\n",
    "Notice that we are installing specific versions of `scikit-learn` and `pandas` in the training image. This is done to make sure that the training runtime is aligned with the serving runtime. Later in the notebook you will deploy the model to AI Platform Prediction, using the 1.15 version of AI Platform Prediction runtime. \n",
    "\n",
    "Make sure to update the URI for the base image so that it points to your project's **Container Registry**."
   ]
  },
  {
   "cell_type": "code",
   "execution_count": 68,
   "metadata": {},
   "outputs": [
    {
     "name": "stdout",
     "output_type": "stream",
     "text": [
      "Overwriting training_app/Dockerfile\n"
     ]
    }
   ],
   "source": [
    "%%writefile {TRAINING_APP_FOLDER}/Dockerfile\n",
    "\n",
    "FROM gcr.io/deeplearning-platform-release/base-cpu\n",
    "RUN pip install -U fire cloudml-hypertune scikit-learn==0.20.4 pandas==0.24.2\n",
    "WORKDIR /app\n",
    "COPY train.py .\n",
    "\n",
    "ENTRYPOINT [\"python\", \"train.py\"]"
   ]
  },
  {
   "cell_type": "markdown",
   "metadata": {},
   "source": [
    "### Build the docker image. \n",
    "\n",
    "You use **Cloud Build** to build the image and push it your project's **Container Registry**. As you use the remote cloud service to build the image, you don't need a local installation of Docker."
   ]
  },
  {
   "cell_type": "code",
   "execution_count": 69,
   "metadata": {},
   "outputs": [],
   "source": [
    "IMAGE_NAME='trainer_image'\n",
    "IMAGE_TAG='latest'\n",
    "IMAGE_URI='gcr.io/{}/{}:{}'.format(PROJECT_ID, IMAGE_NAME, IMAGE_TAG)"
   ]
  },
  {
   "cell_type": "code",
   "execution_count": 70,
   "metadata": {},
   "outputs": [
    {
     "name": "stdout",
     "output_type": "stream",
     "text": [
      "Creating temporary tarball archive of 3 file(s) totalling 4.2 KiB before compression.\n",
      "Uploading tarball of [training_app] to [gs://assignment-371420_cloudbuild/source/1670970304.077718-7dc210cc06b3452095800ee818794aa7.tgz]\n",
      "Created [https://cloudbuild.googleapis.com/v1/projects/assignment-371420/locations/global/builds/70fbeefa-9150-40ce-abca-4f8d81170db8].\n",
      "Logs are available at [ https://console.cloud.google.com/cloud-build/builds/70fbeefa-9150-40ce-abca-4f8d81170db8?project=725195911767 ].\n",
      "----------------------------- REMOTE BUILD OUTPUT ------------------------------\n",
      "starting build \"70fbeefa-9150-40ce-abca-4f8d81170db8\"\n",
      "\n",
      "FETCHSOURCE\n",
      "Fetching storage object: gs://assignment-371420_cloudbuild/source/1670970304.077718-7dc210cc06b3452095800ee818794aa7.tgz#1670970304390369\n",
      "Copying gs://assignment-371420_cloudbuild/source/1670970304.077718-7dc210cc06b3452095800ee818794aa7.tgz#1670970304390369...\n",
      "/ [1 files][  1.9 KiB/  1.9 KiB]                                                \n",
      "Operation completed over 1 objects/1.9 KiB.\n",
      "BUILD\n",
      "Already have image (with digest): gcr.io/cloud-builders/docker\n",
      "Sending build context to Docker daemon   7.68kB\n",
      "Step 1/5 : FROM gcr.io/deeplearning-platform-release/base-cpu\n",
      "latest: Pulling from deeplearning-platform-release/base-cpu\n",
      "eaead16dc43b: Pulling fs layer\n",
      "c2ccccc3b36b: Pulling fs layer\n",
      "eebabe3a151c: Pulling fs layer\n",
      "4f4fb700ef54: Pulling fs layer\n",
      "58c36d6dc2fb: Pulling fs layer\n",
      "c8e6ba7a26ce: Pulling fs layer\n",
      "60121152ebb5: Pulling fs layer\n",
      "d8136ca4c6fa: Pulling fs layer\n",
      "6a94189a10f5: Pulling fs layer\n",
      "a958619a13bc: Pulling fs layer\n",
      "10692bd4fd2a: Pulling fs layer\n",
      "53a4729e5c24: Pulling fs layer\n",
      "3dec7763aadd: Pulling fs layer\n",
      "7655b689cc10: Pulling fs layer\n",
      "edcb50a35261: Pulling fs layer\n",
      "10867914511d: Pulling fs layer\n",
      "3f3eb1e50e24: Pulling fs layer\n",
      "f1b7985fe809: Pulling fs layer\n",
      "c89d833c5b8a: Pulling fs layer\n",
      "1660c6c02ab1: Pulling fs layer\n",
      "745778768726: Pulling fs layer\n",
      "9114d5767eaf: Pulling fs layer\n",
      "4f4fb700ef54: Waiting\n",
      "58c36d6dc2fb: Waiting\n",
      "c8e6ba7a26ce: Waiting\n",
      "60121152ebb5: Waiting\n",
      "d8136ca4c6fa: Waiting\n",
      "6a94189a10f5: Waiting\n",
      "a958619a13bc: Waiting\n",
      "10692bd4fd2a: Waiting\n",
      "53a4729e5c24: Waiting\n",
      "3dec7763aadd: Waiting\n",
      "7655b689cc10: Waiting\n",
      "edcb50a35261: Waiting\n",
      "10867914511d: Waiting\n",
      "3f3eb1e50e24: Waiting\n",
      "f1b7985fe809: Waiting\n",
      "c89d833c5b8a: Waiting\n",
      "1660c6c02ab1: Waiting\n",
      "745778768726: Waiting\n",
      "9114d5767eaf: Waiting\n",
      "eebabe3a151c: Verifying Checksum\n",
      "eebabe3a151c: Download complete\n",
      "4f4fb700ef54: Download complete\n",
      "eaead16dc43b: Verifying Checksum\n",
      "eaead16dc43b: Download complete\n",
      "c2ccccc3b36b: Verifying Checksum\n",
      "c2ccccc3b36b: Download complete\n",
      "60121152ebb5: Verifying Checksum\n",
      "60121152ebb5: Download complete\n",
      "d8136ca4c6fa: Download complete\n",
      "6a94189a10f5: Verifying Checksum\n",
      "6a94189a10f5: Download complete\n",
      "c8e6ba7a26ce: Verifying Checksum\n",
      "c8e6ba7a26ce: Download complete\n",
      "10692bd4fd2a: Verifying Checksum\n",
      "10692bd4fd2a: Download complete\n",
      "53a4729e5c24: Verifying Checksum\n",
      "53a4729e5c24: Download complete\n",
      "3dec7763aadd: Verifying Checksum\n",
      "3dec7763aadd: Download complete\n",
      "7655b689cc10: Verifying Checksum\n",
      "7655b689cc10: Download complete\n",
      "edcb50a35261: Verifying Checksum\n",
      "edcb50a35261: Download complete\n",
      "10867914511d: Verifying Checksum\n",
      "10867914511d: Download complete\n",
      "3f3eb1e50e24: Verifying Checksum\n",
      "3f3eb1e50e24: Download complete\n",
      "f1b7985fe809: Verifying Checksum\n",
      "f1b7985fe809: Download complete\n",
      "c89d833c5b8a: Verifying Checksum\n",
      "c89d833c5b8a: Download complete\n",
      "1660c6c02ab1: Verifying Checksum\n",
      "1660c6c02ab1: Download complete\n",
      "a958619a13bc: Verifying Checksum\n",
      "a958619a13bc: Download complete\n",
      "9114d5767eaf: Download complete\n",
      "58c36d6dc2fb: Verifying Checksum\n",
      "58c36d6dc2fb: Download complete\n",
      "eaead16dc43b: Pull complete\n",
      "c2ccccc3b36b: Pull complete\n",
      "eebabe3a151c: Pull complete\n",
      "4f4fb700ef54: Pull complete\n",
      "745778768726: Verifying Checksum\n",
      "745778768726: Download complete\n",
      "58c36d6dc2fb: Pull complete\n",
      "c8e6ba7a26ce: Pull complete\n",
      "60121152ebb5: Pull complete\n",
      "d8136ca4c6fa: Pull complete\n",
      "6a94189a10f5: Pull complete\n",
      "a958619a13bc: Pull complete\n",
      "10692bd4fd2a: Pull complete\n",
      "53a4729e5c24: Pull complete\n",
      "3dec7763aadd: Pull complete\n",
      "7655b689cc10: Pull complete\n",
      "edcb50a35261: Pull complete\n",
      "10867914511d: Pull complete\n",
      "3f3eb1e50e24: Pull complete\n",
      "f1b7985fe809: Pull complete\n",
      "c89d833c5b8a: Pull complete\n",
      "1660c6c02ab1: Pull complete\n",
      "745778768726: Pull complete\n",
      "9114d5767eaf: Pull complete\n",
      "Digest: sha256:d7f66875569e2a6102f453e64b3f370595cc8b526788808d7b37bec947d8b8d9\n",
      "Status: Downloaded newer image for gcr.io/deeplearning-platform-release/base-cpu:latest\n",
      " ---> 0c45dfe73165\n",
      "Step 2/5 : RUN pip install -U fire cloudml-hypertune scikit-learn==0.20.4 pandas==0.24.2\n",
      " ---> Running in 92f8695c9eb5\n",
      "Collecting fire\n",
      "  Downloading fire-0.5.0.tar.gz (88 kB)\n",
      "     ━━━━━━━━━━━━━━━━━━━━━━━━━━━━━━━━━━━━━━━━ 88.3/88.3 kB 3.8 MB/s eta 0:00:00\n",
      "  Preparing metadata (setup.py): started\n",
      "  Preparing metadata (setup.py): finished with status 'done'\n",
      "Collecting cloudml-hypertune\n",
      "  Downloading cloudml-hypertune-0.1.0.dev6.tar.gz (3.2 kB)\n",
      "  Preparing metadata (setup.py): started\n",
      "  Preparing metadata (setup.py): finished with status 'done'\n",
      "Collecting scikit-learn==0.20.4\n",
      "  Downloading scikit_learn-0.20.4-cp37-cp37m-manylinux1_x86_64.whl (5.4 MB)\n",
      "     ━━━━━━━━━━━━━━━━━━━━━━━━━━━━━━━━━━━━━━━━ 5.4/5.4 MB 21.5 MB/s eta 0:00:00\n",
      "Collecting pandas==0.24.2\n",
      "  Downloading pandas-0.24.2-cp37-cp37m-manylinux1_x86_64.whl (10.1 MB)\n",
      "     ━━━━━━━━━━━━━━━━━━━━━━━━━━━━━━━━━━━━━━━━ 10.1/10.1 MB 42.5 MB/s eta 0:00:00\n",
      "Requirement already satisfied: numpy>=1.8.2 in /opt/conda/lib/python3.7/site-packages (from scikit-learn==0.20.4) (1.21.6)\n",
      "Requirement already satisfied: scipy>=0.13.3 in /opt/conda/lib/python3.7/site-packages (from scikit-learn==0.20.4) (1.7.3)\n",
      "Requirement already satisfied: pytz>=2011k in /opt/conda/lib/python3.7/site-packages (from pandas==0.24.2) (2022.6)\n",
      "Requirement already satisfied: python-dateutil>=2.5.0 in /opt/conda/lib/python3.7/site-packages (from pandas==0.24.2) (2.8.2)\n",
      "Requirement already satisfied: six in /opt/conda/lib/python3.7/site-packages (from fire) (1.16.0)\n",
      "Collecting termcolor\n",
      "  Downloading termcolor-2.1.1-py3-none-any.whl (6.2 kB)\n",
      "Building wheels for collected packages: fire, cloudml-hypertune\n",
      "  Building wheel for fire (setup.py): started\n",
      "  Building wheel for fire (setup.py): finished with status 'done'\n",
      "  Created wheel for fire: filename=fire-0.5.0-py2.py3-none-any.whl size=116931 sha256=c97105705c1b6931924cc65d0b450d10db6aabc622fc5e3e4b53624e54845d89\n",
      "  Stored in directory: /root/.cache/pip/wheels/20/e8/7b/003fc14f02f262dd4614aec55e41147c8012e3dad98c936b76\n",
      "  Building wheel for cloudml-hypertune (setup.py): started\n",
      "  Building wheel for cloudml-hypertune (setup.py): finished with status 'done'\n",
      "  Created wheel for cloudml-hypertune: filename=cloudml_hypertune-0.1.0.dev6-py2.py3-none-any.whl size=3973 sha256=b52c0e6d9d98c7b98406123821b86b40fb0c56a544cd087ec4a40d2380f6acf7\n",
      "  Stored in directory: /root/.cache/pip/wheels/7c/fb/ed/cfc98e70373dfe12db85fffab293e3153162f63de2f6aa5473\n",
      "Successfully built fire cloudml-hypertune\n",
      "Installing collected packages: cloudml-hypertune, termcolor, scikit-learn, pandas, fire\n",
      "  Attempting uninstall: scikit-learn\n",
      "    Found existing installation: scikit-learn 1.0.2\n",
      "    Uninstalling scikit-learn-1.0.2:\n",
      "      Successfully uninstalled scikit-learn-1.0.2\n",
      "  Attempting uninstall: pandas\n",
      "    Found existing installation: pandas 1.3.5\n",
      "    Uninstalling pandas-1.3.5:\n",
      "      Successfully uninstalled pandas-1.3.5\n",
      "\u001b[91mERROR: pip's dependency resolver does not currently take into account all the packages that are installed. This behaviour is the source of the following dependency conflicts.\n",
      "visions 0.7.5 requires pandas>=0.25.3, but you have pandas 0.24.2 which is incompatible.\n",
      "statsmodels 0.13.5 requires pandas>=0.25, but you have pandas 0.24.2 which is incompatible.\n",
      "seaborn 0.12.1 requires pandas>=0.25, but you have pandas 0.24.2 which is incompatible.\n",
      "phik 0.12.3 requires pandas>=0.25.1, but you have pandas 0.24.2 which is incompatible.\n",
      "pandas-profiling 3.5.0 requires pandas!=1.4.0,<1.6,>1.1, but you have pandas 0.24.2 which is incompatible.\n",
      "\u001b[0mSuccessfully installed cloudml-hypertune-0.1.0.dev6 fire-0.5.0 pandas-0.24.2 scikit-learn-0.20.4 termcolor-2.1.1\n",
      "\u001b[91mWARNING: Running pip as the 'root' user can result in broken permissions and conflicting behaviour with the system package manager. It is recommended to use a virtual environment instead: https://pip.pypa.io/warnings/venv\n",
      "\u001b[0mRemoving intermediate container 92f8695c9eb5\n",
      " ---> e15e9f443066\n",
      "Step 3/5 : WORKDIR /app\n",
      " ---> Running in 6b3fedbea8c3\n",
      "Removing intermediate container 6b3fedbea8c3\n",
      " ---> 0ed4cb668e57\n",
      "Step 4/5 : COPY train.py .\n",
      " ---> dd48e2486252\n",
      "Step 5/5 : ENTRYPOINT [\"python\", \"train.py\"]\n",
      " ---> Running in d5abbde5b4a1\n",
      "Removing intermediate container d5abbde5b4a1\n",
      " ---> 702b7a948a8e\n",
      "Successfully built 702b7a948a8e\n",
      "Successfully tagged gcr.io/assignment-371420/trainer_image:latest\n",
      "PUSH\n",
      "Pushing gcr.io/assignment-371420/trainer_image:latest\n",
      "The push refers to repository [gcr.io/assignment-371420/trainer_image]\n",
      "90dff092cada: Preparing\n",
      "26913fbfaf2a: Preparing\n",
      "3899a530aa4c: Preparing\n",
      "aaeef82d4686: Preparing\n",
      "b186571990f7: Preparing\n",
      "1a43197ade03: Preparing\n",
      "c831c0706800: Preparing\n",
      "fb12405821dc: Preparing\n",
      "088d6b94ef91: Preparing\n",
      "19c953bd79ad: Preparing\n",
      "60ad7ee42972: Preparing\n",
      "eb831a2a873a: Preparing\n",
      "3a755d21508d: Preparing\n",
      "1fe6f3965f49: Preparing\n",
      "8dceb5dec0c7: Preparing\n",
      "77d71bc3f5b4: Preparing\n",
      "eb8fa265f465: Preparing\n",
      "98b451041a22: Preparing\n",
      "8c171c190070: Preparing\n",
      "5f70bf18a086: Preparing\n",
      "e7fba8bea130: Preparing\n",
      "cc7f2e15b592: Preparing\n",
      "5f70bf18a086: Preparing\n",
      "160554d7fcdc: Preparing\n",
      "210935b1b3fc: Preparing\n",
      "f4462d5b2da2: Preparing\n",
      "1a43197ade03: Waiting\n",
      "c831c0706800: Waiting\n",
      "fb12405821dc: Waiting\n",
      "088d6b94ef91: Waiting\n",
      "19c953bd79ad: Waiting\n",
      "60ad7ee42972: Waiting\n",
      "eb831a2a873a: Waiting\n",
      "3a755d21508d: Waiting\n",
      "1fe6f3965f49: Waiting\n",
      "8dceb5dec0c7: Waiting\n",
      "77d71bc3f5b4: Waiting\n",
      "eb8fa265f465: Waiting\n",
      "98b451041a22: Waiting\n",
      "8c171c190070: Waiting\n",
      "5f70bf18a086: Waiting\n",
      "e7fba8bea130: Waiting\n",
      "cc7f2e15b592: Waiting\n",
      "160554d7fcdc: Waiting\n",
      "210935b1b3fc: Waiting\n",
      "f4462d5b2da2: Waiting\n",
      "aaeef82d4686: Layer already exists\n",
      "b186571990f7: Layer already exists\n",
      "1a43197ade03: Layer already exists\n",
      "c831c0706800: Layer already exists\n",
      "fb12405821dc: Layer already exists\n",
      "088d6b94ef91: Layer already exists\n",
      "60ad7ee42972: Layer already exists\n",
      "19c953bd79ad: Layer already exists\n",
      "3a755d21508d: Layer already exists\n",
      "eb831a2a873a: Layer already exists\n",
      "1fe6f3965f49: Layer already exists\n",
      "8dceb5dec0c7: Layer already exists\n",
      "eb8fa265f465: Layer already exists\n",
      "77d71bc3f5b4: Layer already exists\n",
      "98b451041a22: Layer already exists\n",
      "8c171c190070: Layer already exists\n",
      "5f70bf18a086: Layer already exists\n",
      "e7fba8bea130: Layer already exists\n",
      "cc7f2e15b592: Layer already exists\n",
      "160554d7fcdc: Layer already exists\n",
      "210935b1b3fc: Layer already exists\n",
      "f4462d5b2da2: Layer already exists\n",
      "26913fbfaf2a: Pushed\n",
      "90dff092cada: Pushed\n",
      "3899a530aa4c: Pushed\n",
      "latest: digest: sha256:c39b04e88252f4f54ab761bdca8931aebd1b9a5037c561a405d547b4187571db size: 5754\n",
      "DONE\n",
      "--------------------------------------------------------------------------------\n",
      "ID                                    CREATE_TIME                DURATION  SOURCE                                                                                           IMAGES                                            STATUS\n",
      "70fbeefa-9150-40ce-abca-4f8d81170db8  2022-12-13T22:25:04+00:00  2M53S     gs://assignment-371420_cloudbuild/source/1670970304.077718-7dc210cc06b3452095800ee818794aa7.tgz  gcr.io/assignment-371420/trainer_image (+1 more)  SUCCESS\n"
     ]
    }
   ],
   "source": [
    "!gcloud builds submit --tag $IMAGE_URI $TRAINING_APP_FOLDER"
   ]
  },
  {
   "cell_type": "markdown",
   "metadata": {},
   "source": [
    "## Submit an AI Platform hyperparameter tuning job"
   ]
  },
  {
   "cell_type": "markdown",
   "metadata": {},
   "source": [
    "### Create the hyperparameter configuration file. \n",
    "Recall that the training code uses `SGDClassifier`. The training application has been designed to accept two hyperparameters that control `SGDClassifier`:\n",
    "- Max iterations\n",
    "- Alpha\n",
    "\n",
    "The below file configures AI Platform hypertuning to run up to 6 trials on up to three nodes and to choose from two discrete values of `max_iter` and the linear range betwee 0.00001 and 0.001 for `alpha`."
   ]
  },
  {
   "cell_type": "code",
   "execution_count": 71,
   "metadata": {},
   "outputs": [
    {
     "name": "stdout",
     "output_type": "stream",
     "text": [
      "Overwriting training_app/hptuning_config.yaml\n"
     ]
    }
   ],
   "source": [
    "%%writefile {TRAINING_APP_FOLDER}/hptuning_config.yaml\n",
    "\n",
    "# Copyright 2019 Google Inc. All Rights Reserved.\n",
    "#\n",
    "# Licensed under the Apache License, Version 2.0 (the \"License\");\n",
    "# you may not use this file except in compliance with the License.\n",
    "# You may obtain a copy of the License at\n",
    "#\n",
    "#            http://www.apache.org/licenses/LICENSE-2.0\n",
    "#\n",
    "# Unless required by applicable law or agreed to in writing, software\n",
    "# distributed under the License is distributed on an \"AS IS\" BASIS,\n",
    "# WITHOUT WARRANTIES OR CONDITIONS OF ANY KIND, either express or implied.\n",
    "# See the License for the specific language governing permissions and\n",
    "# limitations under the License.\n",
    "\n",
    "trainingInput:\n",
    "  hyperparameters:\n",
    "    goal: MAXIMIZE\n",
    "    maxTrials: 4\n",
    "    maxParallelTrials: 4\n",
    "    hyperparameterMetricTag: accuracy\n",
    "    enableTrialEarlyStopping: TRUE \n",
    "    params:\n",
    "    - parameterName: max_iter\n",
    "      type: DISCRETE\n",
    "      discreteValues: [\n",
    "          200,\n",
    "          500\n",
    "          ]\n",
    "    - parameterName: alpha\n",
    "      type: DOUBLE\n",
    "      minValue:  0.00001\n",
    "      maxValue:  0.001\n",
    "      scaleType: UNIT_LINEAR_SCALE"
   ]
  },
  {
   "cell_type": "markdown",
   "metadata": {},
   "source": [
    "### Start the hyperparameter tuning job.\n",
    "\n",
    "Use the `gcloud` command to start the hyperparameter tuning job."
   ]
  },
  {
   "cell_type": "code",
   "execution_count": 72,
   "metadata": {},
   "outputs": [
    {
     "name": "stdout",
     "output_type": "stream",
     "text": [
      "Job [JOB_20221213_222801] submitted successfully.\n",
      "Your job is still active. You may view the status of your job with the command\n",
      "\n",
      "  $ gcloud ai-platform jobs describe JOB_20221213_222801\n",
      "\n",
      "or continue streaming the logs with the command\n",
      "\n",
      "  $ gcloud ai-platform jobs stream-logs JOB_20221213_222801\n",
      "jobId: JOB_20221213_222801\n",
      "state: QUEUED\n"
     ]
    }
   ],
   "source": [
    "JOB_NAME = \"JOB_{}\".format(time.strftime(\"%Y%m%d_%H%M%S\"))\n",
    "JOB_DIR = \"{}/{}\".format(JOB_DIR_ROOT, JOB_NAME)\n",
    "SCALE_TIER = \"BASIC\"\n",
    "\n",
    "!gcloud ai-platform jobs submit training $JOB_NAME \\\n",
    "--region=$REGION \\\n",
    "--job-dir=$JOB_DIR \\\n",
    "--master-image-uri=$IMAGE_URI \\\n",
    "--scale-tier=$SCALE_TIER \\\n",
    "--config $TRAINING_APP_FOLDER/hptuning_config.yaml \\\n",
    "-- \\\n",
    "--training_dataset_path=$TRAINING_FILE_PATH \\\n",
    "--validation_dataset_path=$VALIDATION_FILE_PATH \\\n",
    "--hptune"
   ]
  },
  {
   "cell_type": "markdown",
   "metadata": {},
   "source": [
    "### Monitor the job.\n",
    "\n",
    "You can monitor the job using Google Cloud console or from within the notebook using `gcloud` commands."
   ]
  },
  {
   "cell_type": "code",
   "execution_count": 73,
   "metadata": {},
   "outputs": [
    {
     "name": "stdout",
     "output_type": "stream",
     "text": [
      "createTime: '2022-12-13T22:28:05Z'\n",
      "etag: pFISyjSQYas=\n",
      "jobId: JOB_20221213_222801\n",
      "jobPosition: '0'\n",
      "state: PREPARING\n",
      "trainingInput:\n",
      "  args:\n",
      "  - --training_dataset_path=gs://artifacts.assignment-371420.appspot.com/data/training/dataset.csv\n",
      "  - --validation_dataset_path=gs://artifacts.assignment-371420.appspot.com/data/validation/dataset.csv\n",
      "  - --hptune\n",
      "  hyperparameters:\n",
      "    enableTrialEarlyStopping: true\n",
      "    goal: MAXIMIZE\n",
      "    hyperparameterMetricTag: accuracy\n",
      "    maxParallelTrials: 4\n",
      "    maxTrials: 4\n",
      "    params:\n",
      "    - discreteValues:\n",
      "      - 200.0\n",
      "      - 500.0\n",
      "      parameterName: max_iter\n",
      "      type: DISCRETE\n",
      "    - maxValue: 0.001\n",
      "      minValue: 1e-05\n",
      "      parameterName: alpha\n",
      "      scaleType: UNIT_LINEAR_SCALE\n",
      "      type: DOUBLE\n",
      "  jobDir: gs://artifacts.assignment-371420.appspot.com/jobs/JOB_20221213_222801\n",
      "  masterConfig:\n",
      "    imageUri: gcr.io/assignment-371420/trainer_image:latest\n",
      "  region: us-central1\n",
      "trainingOutput:\n",
      "  isHyperparameterTuningJob: true\n",
      "\n",
      "View job in the Cloud Console at:\n",
      "https://console.cloud.google.com/mlengine/jobs/JOB_20221213_222801?project=assignment-371420\n",
      "\n",
      "View logs at:\n",
      "https://console.cloud.google.com/logs?resource=ml_job%2Fjob_id%2FJOB_20221213_222801&project=assignment-371420\n"
     ]
    }
   ],
   "source": [
    "!gcloud ai-platform jobs describe $JOB_NAME"
   ]
  },
  {
   "cell_type": "code",
   "execution_count": 74,
   "metadata": {},
   "outputs": [
    {
     "name": "stdout",
     "output_type": "stream",
     "text": [
      "INFO\t2022-12-13 22:28:05 +0000\tservice\t\tValidating job requirements...\n",
      "INFO\t2022-12-13 22:28:05 +0000\tservice\t\tJob creation request has been successfully validated.\n",
      "INFO\t2022-12-13 22:28:05 +0000\tservice\t\tJob JOB_20221213_222801 is queued.\n",
      "INFO\t2022-12-13 22:28:16 +0000\tservice\t2\tWaiting for job to be provisioned.\n",
      "INFO\t2022-12-13 22:28:16 +0000\tservice\t1\tWaiting for job to be provisioned.\n",
      "INFO\t2022-12-13 22:28:16 +0000\tservice\t3\tWaiting for job to be provisioned.\n",
      "INFO\t2022-12-13 22:28:16 +0000\tservice\t4\tWaiting for job to be provisioned.\n",
      "INFO\t2022-12-13 22:28:17 +0000\tservice\t1\tWaiting for training program to start.\n",
      "INFO\t2022-12-13 22:28:18 +0000\tservice\t2\tWaiting for training program to start.\n",
      "INFO\t2022-12-13 22:28:18 +0000\tservice\t3\tWaiting for training program to start.\n",
      "INFO\t2022-12-13 22:28:18 +0000\tservice\t4\tWaiting for training program to start.\n",
      "NOTICE\t2022-12-13 22:28:50 +0000\tmaster-replica-0.gcsfuse\t2\tOpening GCS connection...\n",
      "NOTICE\t2022-12-13 22:28:50 +0000\tmaster-replica-0.gcsfuse\t2\tMounting file system \"gcsfuse\"...\n",
      "NOTICE\t2022-12-13 22:28:50 +0000\tmaster-replica-0.gcsfuse\t2\tFile system has been successfully mounted.\n",
      "NOTICE\t2022-12-13 22:28:50 +0000\tmaster-replica-0.gcsfuse\t3\tOpening GCS connection...\n",
      "NOTICE\t2022-12-13 22:28:50 +0000\tmaster-replica-0.gcsfuse\t3\tMounting file system \"gcsfuse\"...\n",
      "NOTICE\t2022-12-13 22:28:50 +0000\tmaster-replica-0.gcsfuse\t3\tFile system has been successfully mounted.\n",
      "NOTICE\t2022-12-13 22:28:51 +0000\tmaster-replica-0.gcsfuse\t1\tOpening GCS connection...\n",
      "NOTICE\t2022-12-13 22:28:51 +0000\tmaster-replica-0.gcsfuse\t1\tMounting file system \"gcsfuse\"...\n",
      "NOTICE\t2022-12-13 22:28:51 +0000\tmaster-replica-0.gcsfuse\t1\tFile system has been successfully mounted.\n",
      "NOTICE\t2022-12-13 22:28:59 +0000\tmaster-replica-0.gcsfuse\t4\tOpening GCS connection...\n",
      "NOTICE\t2022-12-13 22:28:59 +0000\tmaster-replica-0.gcsfuse\t4\tMounting file system \"gcsfuse\"...\n",
      "NOTICE\t2022-12-13 22:28:59 +0000\tmaster-replica-0.gcsfuse\t4\tFile system has been successfully mounted.\n",
      "ERROR\t2022-12-13 22:30:13 +0000\tmaster-replica-0\t3\t/opt/conda/lib/python3.7/site-packages/sklearn/utils/validation.py:37: DeprecationWarning: distutils Version classes are deprecated. Use packaging.version instead.\n",
      "ERROR\t2022-12-13 22:30:13 +0000\tmaster-replica-0\t3\t  LARGE_SPARSE_SUPPORTED = LooseVersion(scipy_version) >= '0.14.0'\n",
      "ERROR\t2022-12-13 22:30:13 +0000\tmaster-replica-0\t3\t/opt/conda/lib/python3.7/site-packages/sklearn/linear_model/least_angle.py:35: DeprecationWarning: `np.float` is a deprecated alias for the builtin `float`. To silence this warning, use `float` by itself. Doing this will not modify any behavior and is safe. If you specifically wanted the numpy scalar type, use `np.float64` here.\n",
      "ERROR\t2022-12-13 22:30:13 +0000\tmaster-replica-0\t3\tDeprecated in NumPy 1.20; for more details and guidance: https://numpy.org/devdocs/release/1.20.0-notes.html#deprecations\n",
      "ERROR\t2022-12-13 22:30:13 +0000\tmaster-replica-0\t3\t  eps=np.finfo(np.float).eps,\n",
      "ERROR\t2022-12-13 22:30:13 +0000\tmaster-replica-0\t3\t/opt/conda/lib/python3.7/site-packages/sklearn/linear_model/least_angle.py:597: DeprecationWarning: `np.float` is a deprecated alias for the builtin `float`. To silence this warning, use `float` by itself. Doing this will not modify any behavior and is safe. If you specifically wanted the numpy scalar type, use `np.float64` here.\n",
      "ERROR\t2022-12-13 22:30:13 +0000\tmaster-replica-0\t3\tDeprecated in NumPy 1.20; for more details and guidance: https://numpy.org/devdocs/release/1.20.0-notes.html#deprecations\n",
      "ERROR\t2022-12-13 22:30:13 +0000\tmaster-replica-0\t3\t  eps=np.finfo(np.float).eps, copy_X=True, fit_path=True,\n",
      "ERROR\t2022-12-13 22:30:13 +0000\tmaster-replica-0\t3\t/opt/conda/lib/python3.7/site-packages/sklearn/linear_model/least_angle.py:836: DeprecationWarning: `np.float` is a deprecated alias for the builtin `float`. To silence this warning, use `float` by itself. Doing this will not modify any behavior and is safe. If you specifically wanted the numpy scalar type, use `np.float64` here.\n",
      "ERROR\t2022-12-13 22:30:13 +0000\tmaster-replica-0\t3\tDeprecated in NumPy 1.20; for more details and guidance: https://numpy.org/devdocs/release/1.20.0-notes.html#deprecations\n",
      "ERROR\t2022-12-13 22:30:13 +0000\tmaster-replica-0\t3\t  eps=np.finfo(np.float).eps, copy_X=True, fit_path=True,\n",
      "ERROR\t2022-12-13 22:30:13 +0000\tmaster-replica-0\t3\t/opt/conda/lib/python3.7/site-packages/sklearn/linear_model/least_angle.py:862: DeprecationWarning: `np.float` is a deprecated alias for the builtin `float`. To silence this warning, use `float` by itself. Doing this will not modify any behavior and is safe. If you specifically wanted the numpy scalar type, use `np.float64` here.\n",
      "ERROR\t2022-12-13 22:30:13 +0000\tmaster-replica-0\t3\tDeprecated in NumPy 1.20; for more details and guidance: https://numpy.org/devdocs/release/1.20.0-notes.html#deprecations\n",
      "ERROR\t2022-12-13 22:30:13 +0000\tmaster-replica-0\t3\t  eps=np.finfo(np.float).eps, positive=False):\n",
      "ERROR\t2022-12-13 22:30:13 +0000\tmaster-replica-0\t3\t/opt/conda/lib/python3.7/site-packages/sklearn/linear_model/least_angle.py:1097: DeprecationWarning: `np.float` is a deprecated alias for the builtin `float`. To silence this warning, use `float` by itself. Doing this will not modify any behavior and is safe. If you specifically wanted the numpy scalar type, use `np.float64` here.\n",
      "ERROR\t2022-12-13 22:30:13 +0000\tmaster-replica-0\t3\tDeprecated in NumPy 1.20; for more details and guidance: https://numpy.org/devdocs/release/1.20.0-notes.html#deprecations\n",
      "ERROR\t2022-12-13 22:30:13 +0000\tmaster-replica-0\t3\t  max_n_alphas=1000, n_jobs=None, eps=np.finfo(np.float).eps,\n",
      "ERROR\t2022-12-13 22:30:13 +0000\tmaster-replica-0\t3\t/opt/conda/lib/python3.7/site-packages/sklearn/linear_model/least_angle.py:1344: DeprecationWarning: `np.float` is a deprecated alias for the builtin `float`. To silence this warning, use `float` by itself. Doing this will not modify any behavior and is safe. If you specifically wanted the numpy scalar type, use `np.float64` here.\n",
      "ERROR\t2022-12-13 22:30:13 +0000\tmaster-replica-0\t3\tDeprecated in NumPy 1.20; for more details and guidance: https://numpy.org/devdocs/release/1.20.0-notes.html#deprecations\n",
      "ERROR\t2022-12-13 22:30:13 +0000\tmaster-replica-0\t3\t  max_n_alphas=1000, n_jobs=None, eps=np.finfo(np.float).eps,\n",
      "ERROR\t2022-12-13 22:30:13 +0000\tmaster-replica-0\t3\t/opt/conda/lib/python3.7/site-packages/sklearn/linear_model/least_angle.py:1480: DeprecationWarning: `np.float` is a deprecated alias for the builtin `float`. To silence this warning, use `float` by itself. Doing this will not modify any behavior and is safe. If you specifically wanted the numpy scalar type, use `np.float64` here.\n",
      "ERROR\t2022-12-13 22:30:13 +0000\tmaster-replica-0\t3\tDeprecated in NumPy 1.20; for more details and guidance: https://numpy.org/devdocs/release/1.20.0-notes.html#deprecations\n",
      "ERROR\t2022-12-13 22:30:13 +0000\tmaster-replica-0\t3\t  eps=np.finfo(np.float).eps, copy_X=True, positive=False):\n",
      "ERROR\t2022-12-13 22:30:13 +0000\tmaster-replica-0\t3\t/opt/conda/lib/python3.7/site-packages/sklearn/linear_model/randomized_l1.py:152: DeprecationWarning: `np.float` is a deprecated alias for the builtin `float`. To silence this warning, use `float` by itself. Doing this will not modify any behavior and is safe. If you specifically wanted the numpy scalar type, use `np.float64` here.\n",
      "ERROR\t2022-12-13 22:30:13 +0000\tmaster-replica-0\t3\tDeprecated in NumPy 1.20; for more details and guidance: https://numpy.org/devdocs/release/1.20.0-notes.html#deprecations\n",
      "ERROR\t2022-12-13 22:30:13 +0000\tmaster-replica-0\t3\t  precompute=False, eps=np.finfo(np.float).eps,\n",
      "ERROR\t2022-12-13 22:30:13 +0000\tmaster-replica-0\t3\t/opt/conda/lib/python3.7/site-packages/sklearn/linear_model/randomized_l1.py:320: DeprecationWarning: `np.float` is a deprecated alias for the builtin `float`. To silence this warning, use `float` by itself. Doing this will not modify any behavior and is safe. If you specifically wanted the numpy scalar type, use `np.float64` here.\n",
      "ERROR\t2022-12-13 22:30:13 +0000\tmaster-replica-0\t3\tDeprecated in NumPy 1.20; for more details and guidance: https://numpy.org/devdocs/release/1.20.0-notes.html#deprecations\n",
      "ERROR\t2022-12-13 22:30:13 +0000\tmaster-replica-0\t3\t  eps=np.finfo(np.float).eps, random_state=None,\n",
      "ERROR\t2022-12-13 22:30:13 +0000\tmaster-replica-0\t3\t/opt/conda/lib/python3.7/site-packages/sklearn/linear_model/randomized_l1.py:580: DeprecationWarning: `np.float` is a deprecated alias for the builtin `float`. To silence this warning, use `float` by itself. Doing this will not modify any behavior and is safe. If you specifically wanted the numpy scalar type, use `np.float64` here.\n",
      "ERROR\t2022-12-13 22:30:13 +0000\tmaster-replica-0\t3\tDeprecated in NumPy 1.20; for more details and guidance: https://numpy.org/devdocs/release/1.20.0-notes.html#deprecations\n",
      "ERROR\t2022-12-13 22:30:13 +0000\tmaster-replica-0\t3\t  eps=4 * np.finfo(np.float).eps, n_jobs=None,\n",
      "ERROR\t2022-12-13 22:30:13 +0000\tmaster-replica-0\t3\t/opt/conda/lib/python3.7/site-packages/sklearn/utils/validation.py:209: DeprecationWarning: distutils Version classes are deprecated. Use packaging.version instead.\n",
      "ERROR\t2022-12-13 22:30:13 +0000\tmaster-replica-0\t3\t  if LooseVersion(joblib_version) < '0.12':\n",
      "ERROR\t2022-12-13 22:30:13 +0000\tmaster-replica-0\t3\t/opt/conda/lib/python3.7/site-packages/sklearn/preprocessing/_encoders.py:354: DeprecationWarning: `np.int` is a deprecated alias for the builtin `int`. To silence this warning, use `int` by itself. Doing this will not modify any behavior and is safe. When replacing `np.int`, you may wish to use e.g. `np.int64` or `np.int32` to specify the precision. If you wish to review your current use, check the release note link for additional information.\n",
      "ERROR\t2022-12-13 22:30:13 +0000\tmaster-replica-0\t3\tDeprecated in NumPy 1.20; for more details and guidance: https://numpy.org/devdocs/release/1.20.0-notes.html#deprecations\n",
      "ERROR\t2022-12-13 22:30:13 +0000\tmaster-replica-0\t3\t  X = check_array(X, dtype=np.int)\n",
      "ERROR\t2022-12-13 22:30:13 +0000\tmaster-replica-0\t3\t/opt/conda/lib/python3.7/site-packages/sklearn/preprocessing/_encoders.py:95: DeprecationWarning: `np.int` is a deprecated alias for the builtin `int`. To silence this warning, use `int` by itself. Doing this will not modify any behavior and is safe. When replacing `np.int`, you may wish to use e.g. `np.int64` or `np.int32` to specify the precision. If you wish to review your current use, check the release note link for additional information.\n",
      "ERROR\t2022-12-13 22:30:13 +0000\tmaster-replica-0\t3\tDeprecated in NumPy 1.20; for more details and guidance: https://numpy.org/devdocs/release/1.20.0-notes.html#deprecations\n",
      "ERROR\t2022-12-13 22:30:13 +0000\tmaster-replica-0\t3\t  X_int = np.zeros_like(X, dtype=np.int)\n",
      "ERROR\t2022-12-13 22:30:13 +0000\tmaster-replica-0\t3\t/opt/conda/lib/python3.7/site-packages/sklearn/preprocessing/_encoders.py:96: DeprecationWarning: `np.bool` is a deprecated alias for the builtin `bool`. To silence this warning, use `bool` by itself. Doing this will not modify any behavior and is safe. If you specifically wanted the numpy scalar type, use `np.bool_` here.\n",
      "ERROR\t2022-12-13 22:30:13 +0000\tmaster-replica-0\t3\tDeprecated in NumPy 1.20; for more details and guidance: https://numpy.org/devdocs/release/1.20.0-notes.html#deprecations\n",
      "ERROR\t2022-12-13 22:30:13 +0000\tmaster-replica-0\t3\t  X_mask = np.ones_like(X, dtype=np.bool)\n",
      "ERROR\t2022-12-13 22:30:13 +0000\tmaster-replica-0\t3\t/opt/conda/lib/python3.7/site-packages/sklearn/utils/fixes.py:357: DeprecationWarning: distutils Version classes are deprecated. Use packaging.version instead.\n",
      "ERROR\t2022-12-13 22:30:13 +0000\tmaster-replica-0\t3\t  if _joblib.__version__ >= LooseVersion('0.12'):\n",
      "ERROR\t2022-12-13 22:30:13 +0000\tmaster-replica-0\t3\t/opt/conda/lib/python3.7/site-packages/sklearn/preprocessing/_encoders.py:95: DeprecationWarning: `np.int` is a deprecated alias for the builtin `int`. To silence this warning, use `int` by itself. Doing this will not modify any behavior and is safe. When replacing `np.int`, you may wish to use e.g. `np.int64` or `np.int32` to specify the precision. If you wish to review your current use, check the release note link for additional information.\n",
      "ERROR\t2022-12-13 22:30:13 +0000\tmaster-replica-0\t3\tDeprecated in NumPy 1.20; for more details and guidance: https://numpy.org/devdocs/release/1.20.0-notes.html#deprecations\n",
      "ERROR\t2022-12-13 22:30:13 +0000\tmaster-replica-0\t3\t  X_int = np.zeros_like(X, dtype=np.int)\n",
      "ERROR\t2022-12-13 22:30:13 +0000\tmaster-replica-0\t3\t/opt/conda/lib/python3.7/site-packages/sklearn/preprocessing/_encoders.py:96: DeprecationWarning: `np.bool` is a deprecated alias for the builtin `bool`. To silence this warning, use `bool` by itself. Doing this will not modify any behavior and is safe. If you specifically wanted the numpy scalar type, use `np.bool_` here.\n",
      "ERROR\t2022-12-13 22:30:13 +0000\tmaster-replica-0\t3\tDeprecated in NumPy 1.20; for more details and guidance: https://numpy.org/devdocs/release/1.20.0-notes.html#deprecations\n",
      "ERROR\t2022-12-13 22:30:13 +0000\tmaster-replica-0\t3\t  X_mask = np.ones_like(X, dtype=np.bool)\n",
      "INFO\t2022-12-13 22:30:13 +0000\tmaster-replica-0\t3\tStarting training: alpha=0.0002680820307296975, max_iter=200\n",
      "INFO\t2022-12-13 22:30:13 +0000\tmaster-replica-0\t3\tModel accuracy: 0.703881073530879\n",
      "ERROR\t2022-12-13 22:30:17 +0000\tmaster-replica-0\t1\t/opt/conda/lib/python3.7/site-packages/sklearn/utils/validation.py:37: DeprecationWarning: distutils Version classes are deprecated. Use packaging.version instead.\n",
      "ERROR\t2022-12-13 22:30:17 +0000\tmaster-replica-0\t1\t  LARGE_SPARSE_SUPPORTED = LooseVersion(scipy_version) >= '0.14.0'\n",
      "ERROR\t2022-12-13 22:30:17 +0000\tmaster-replica-0\t1\t/opt/conda/lib/python3.7/site-packages/sklearn/linear_model/least_angle.py:35: DeprecationWarning: `np.float` is a deprecated alias for the builtin `float`. To silence this warning, use `float` by itself. Doing this will not modify any behavior and is safe. If you specifically wanted the numpy scalar type, use `np.float64` here.\n",
      "ERROR\t2022-12-13 22:30:17 +0000\tmaster-replica-0\t1\tDeprecated in NumPy 1.20; for more details and guidance: https://numpy.org/devdocs/release/1.20.0-notes.html#deprecations\n",
      "ERROR\t2022-12-13 22:30:17 +0000\tmaster-replica-0\t1\t  eps=np.finfo(np.float).eps,\n",
      "ERROR\t2022-12-13 22:30:17 +0000\tmaster-replica-0\t1\t/opt/conda/lib/python3.7/site-packages/sklearn/linear_model/least_angle.py:597: DeprecationWarning: `np.float` is a deprecated alias for the builtin `float`. To silence this warning, use `float` by itself. Doing this will not modify any behavior and is safe. If you specifically wanted the numpy scalar type, use `np.float64` here.\n",
      "ERROR\t2022-12-13 22:30:17 +0000\tmaster-replica-0\t1\tDeprecated in NumPy 1.20; for more details and guidance: https://numpy.org/devdocs/release/1.20.0-notes.html#deprecations\n",
      "ERROR\t2022-12-13 22:30:17 +0000\tmaster-replica-0\t1\t  eps=np.finfo(np.float).eps, copy_X=True, fit_path=True,\n",
      "ERROR\t2022-12-13 22:30:17 +0000\tmaster-replica-0\t1\t/opt/conda/lib/python3.7/site-packages/sklearn/linear_model/least_angle.py:836: DeprecationWarning: `np.float` is a deprecated alias for the builtin `float`. To silence this warning, use `float` by itself. Doing this will not modify any behavior and is safe. If you specifically wanted the numpy scalar type, use `np.float64` here.\n",
      "ERROR\t2022-12-13 22:30:17 +0000\tmaster-replica-0\t1\tDeprecated in NumPy 1.20; for more details and guidance: https://numpy.org/devdocs/release/1.20.0-notes.html#deprecations\n",
      "ERROR\t2022-12-13 22:30:17 +0000\tmaster-replica-0\t1\t  eps=np.finfo(np.float).eps, copy_X=True, fit_path=True,\n",
      "ERROR\t2022-12-13 22:30:17 +0000\tmaster-replica-0\t1\t/opt/conda/lib/python3.7/site-packages/sklearn/linear_model/least_angle.py:862: DeprecationWarning: `np.float` is a deprecated alias for the builtin `float`. To silence this warning, use `float` by itself. Doing this will not modify any behavior and is safe. If you specifically wanted the numpy scalar type, use `np.float64` here.\n",
      "ERROR\t2022-12-13 22:30:17 +0000\tmaster-replica-0\t1\tDeprecated in NumPy 1.20; for more details and guidance: https://numpy.org/devdocs/release/1.20.0-notes.html#deprecations\n",
      "ERROR\t2022-12-13 22:30:17 +0000\tmaster-replica-0\t1\t  eps=np.finfo(np.float).eps, positive=False):\n",
      "ERROR\t2022-12-13 22:30:17 +0000\tmaster-replica-0\t1\t/opt/conda/lib/python3.7/site-packages/sklearn/linear_model/least_angle.py:1097: DeprecationWarning: `np.float` is a deprecated alias for the builtin `float`. To silence this warning, use `float` by itself. Doing this will not modify any behavior and is safe. If you specifically wanted the numpy scalar type, use `np.float64` here.\n",
      "ERROR\t2022-12-13 22:30:17 +0000\tmaster-replica-0\t1\tDeprecated in NumPy 1.20; for more details and guidance: https://numpy.org/devdocs/release/1.20.0-notes.html#deprecations\n",
      "ERROR\t2022-12-13 22:30:17 +0000\tmaster-replica-0\t1\t  max_n_alphas=1000, n_jobs=None, eps=np.finfo(np.float).eps,\n",
      "ERROR\t2022-12-13 22:30:17 +0000\tmaster-replica-0\t1\t/opt/conda/lib/python3.7/site-packages/sklearn/linear_model/least_angle.py:1344: DeprecationWarning: `np.float` is a deprecated alias for the builtin `float`. To silence this warning, use `float` by itself. Doing this will not modify any behavior and is safe. If you specifically wanted the numpy scalar type, use `np.float64` here.\n",
      "ERROR\t2022-12-13 22:30:17 +0000\tmaster-replica-0\t1\tDeprecated in NumPy 1.20; for more details and guidance: https://numpy.org/devdocs/release/1.20.0-notes.html#deprecations\n",
      "ERROR\t2022-12-13 22:30:17 +0000\tmaster-replica-0\t1\t  max_n_alphas=1000, n_jobs=None, eps=np.finfo(np.float).eps,\n",
      "ERROR\t2022-12-13 22:30:17 +0000\tmaster-replica-0\t1\t/opt/conda/lib/python3.7/site-packages/sklearn/linear_model/least_angle.py:1480: DeprecationWarning: `np.float` is a deprecated alias for the builtin `float`. To silence this warning, use `float` by itself. Doing this will not modify any behavior and is safe. If you specifically wanted the numpy scalar type, use `np.float64` here.\n",
      "ERROR\t2022-12-13 22:30:17 +0000\tmaster-replica-0\t1\tDeprecated in NumPy 1.20; for more details and guidance: https://numpy.org/devdocs/release/1.20.0-notes.html#deprecations\n",
      "ERROR\t2022-12-13 22:30:17 +0000\tmaster-replica-0\t1\t  eps=np.finfo(np.float).eps, copy_X=True, positive=False):\n",
      "ERROR\t2022-12-13 22:30:17 +0000\tmaster-replica-0\t1\t/opt/conda/lib/python3.7/site-packages/sklearn/linear_model/randomized_l1.py:152: DeprecationWarning: `np.float` is a deprecated alias for the builtin `float`. To silence this warning, use `float` by itself. Doing this will not modify any behavior and is safe. If you specifically wanted the numpy scalar type, use `np.float64` here.\n",
      "ERROR\t2022-12-13 22:30:17 +0000\tmaster-replica-0\t1\tDeprecated in NumPy 1.20; for more details and guidance: https://numpy.org/devdocs/release/1.20.0-notes.html#deprecations\n",
      "ERROR\t2022-12-13 22:30:17 +0000\tmaster-replica-0\t1\t  precompute=False, eps=np.finfo(np.float).eps,\n",
      "ERROR\t2022-12-13 22:30:17 +0000\tmaster-replica-0\t1\t/opt/conda/lib/python3.7/site-packages/sklearn/linear_model/randomized_l1.py:320: DeprecationWarning: `np.float` is a deprecated alias for the builtin `float`. To silence this warning, use `float` by itself. Doing this will not modify any behavior and is safe. If you specifically wanted the numpy scalar type, use `np.float64` here.\n",
      "ERROR\t2022-12-13 22:30:17 +0000\tmaster-replica-0\t1\tDeprecated in NumPy 1.20; for more details and guidance: https://numpy.org/devdocs/release/1.20.0-notes.html#deprecations\n",
      "ERROR\t2022-12-13 22:30:17 +0000\tmaster-replica-0\t1\t  eps=np.finfo(np.float).eps, random_state=None,\n",
      "ERROR\t2022-12-13 22:30:17 +0000\tmaster-replica-0\t1\t/opt/conda/lib/python3.7/site-packages/sklearn/linear_model/randomized_l1.py:580: DeprecationWarning: `np.float` is a deprecated alias for the builtin `float`. To silence this warning, use `float` by itself. Doing this will not modify any behavior and is safe. If you specifically wanted the numpy scalar type, use `np.float64` here.\n",
      "ERROR\t2022-12-13 22:30:17 +0000\tmaster-replica-0\t1\tDeprecated in NumPy 1.20; for more details and guidance: https://numpy.org/devdocs/release/1.20.0-notes.html#deprecations\n",
      "ERROR\t2022-12-13 22:30:17 +0000\tmaster-replica-0\t1\t  eps=4 * np.finfo(np.float).eps, n_jobs=None,\n",
      "ERROR\t2022-12-13 22:30:17 +0000\tmaster-replica-0\t1\t/opt/conda/lib/python3.7/site-packages/sklearn/utils/validation.py:209: DeprecationWarning: distutils Version classes are deprecated. Use packaging.version instead.\n",
      "ERROR\t2022-12-13 22:30:17 +0000\tmaster-replica-0\t1\t  if LooseVersion(joblib_version) < '0.12':\n",
      "ERROR\t2022-12-13 22:30:17 +0000\tmaster-replica-0\t1\t/opt/conda/lib/python3.7/site-packages/sklearn/preprocessing/_encoders.py:354: DeprecationWarning: `np.int` is a deprecated alias for the builtin `int`. To silence this warning, use `int` by itself. Doing this will not modify any behavior and is safe. When replacing `np.int`, you may wish to use e.g. `np.int64` or `np.int32` to specify the precision. If you wish to review your current use, check the release note link for additional information.\n",
      "ERROR\t2022-12-13 22:30:17 +0000\tmaster-replica-0\t1\tDeprecated in NumPy 1.20; for more details and guidance: https://numpy.org/devdocs/release/1.20.0-notes.html#deprecations\n",
      "ERROR\t2022-12-13 22:30:17 +0000\tmaster-replica-0\t1\t  X = check_array(X, dtype=np.int)\n",
      "ERROR\t2022-12-13 22:30:17 +0000\tmaster-replica-0\t1\t/opt/conda/lib/python3.7/site-packages/sklearn/preprocessing/_encoders.py:95: DeprecationWarning: `np.int` is a deprecated alias for the builtin `int`. To silence this warning, use `int` by itself. Doing this will not modify any behavior and is safe. When replacing `np.int`, you may wish to use e.g. `np.int64` or `np.int32` to specify the precision. If you wish to review your current use, check the release note link for additional information.\n",
      "ERROR\t2022-12-13 22:30:17 +0000\tmaster-replica-0\t1\tDeprecated in NumPy 1.20; for more details and guidance: https://numpy.org/devdocs/release/1.20.0-notes.html#deprecations\n",
      "ERROR\t2022-12-13 22:30:17 +0000\tmaster-replica-0\t1\t  X_int = np.zeros_like(X, dtype=np.int)\n",
      "ERROR\t2022-12-13 22:30:17 +0000\tmaster-replica-0\t1\t/opt/conda/lib/python3.7/site-packages/sklearn/preprocessing/_encoders.py:96: DeprecationWarning: `np.bool` is a deprecated alias for the builtin `bool`. To silence this warning, use `bool` by itself. Doing this will not modify any behavior and is safe. If you specifically wanted the numpy scalar type, use `np.bool_` here.\n",
      "ERROR\t2022-12-13 22:30:17 +0000\tmaster-replica-0\t1\tDeprecated in NumPy 1.20; for more details and guidance: https://numpy.org/devdocs/release/1.20.0-notes.html#deprecations\n",
      "ERROR\t2022-12-13 22:30:17 +0000\tmaster-replica-0\t1\t  X_mask = np.ones_like(X, dtype=np.bool)\n",
      "ERROR\t2022-12-13 22:30:17 +0000\tmaster-replica-0\t1\t/opt/conda/lib/python3.7/site-packages/sklearn/utils/fixes.py:357: DeprecationWarning: distutils Version classes are deprecated. Use packaging.version instead.\n",
      "ERROR\t2022-12-13 22:30:17 +0000\tmaster-replica-0\t1\t  if _joblib.__version__ >= LooseVersion('0.12'):\n",
      "ERROR\t2022-12-13 22:30:17 +0000\tmaster-replica-0\t1\t/opt/conda/lib/python3.7/site-packages/sklearn/preprocessing/_encoders.py:95: DeprecationWarning: `np.int` is a deprecated alias for the builtin `int`. To silence this warning, use `int` by itself. Doing this will not modify any behavior and is safe. When replacing `np.int`, you may wish to use e.g. `np.int64` or `np.int32` to specify the precision. If you wish to review your current use, check the release note link for additional information.\n",
      "ERROR\t2022-12-13 22:30:17 +0000\tmaster-replica-0\t1\tDeprecated in NumPy 1.20; for more details and guidance: https://numpy.org/devdocs/release/1.20.0-notes.html#deprecations\n",
      "ERROR\t2022-12-13 22:30:17 +0000\tmaster-replica-0\t1\t  X_int = np.zeros_like(X, dtype=np.int)\n",
      "ERROR\t2022-12-13 22:30:17 +0000\tmaster-replica-0\t1\t/opt/conda/lib/python3.7/site-packages/sklearn/preprocessing/_encoders.py:96: DeprecationWarning: `np.bool` is a deprecated alias for the builtin `bool`. To silence this warning, use `bool` by itself. Doing this will not modify any behavior and is safe. If you specifically wanted the numpy scalar type, use `np.bool_` here.\n",
      "ERROR\t2022-12-13 22:30:17 +0000\tmaster-replica-0\t1\tDeprecated in NumPy 1.20; for more details and guidance: https://numpy.org/devdocs/release/1.20.0-notes.html#deprecations\n",
      "ERROR\t2022-12-13 22:30:17 +0000\tmaster-replica-0\t1\t  X_mask = np.ones_like(X, dtype=np.bool)\n",
      "INFO\t2022-12-13 22:30:17 +0000\tmaster-replica-0\t1\tStarting training: alpha=0.000505, max_iter=500\n",
      "INFO\t2022-12-13 22:30:17 +0000\tmaster-replica-0\t1\tModel accuracy: 0.6977950713359273\n",
      "ERROR\t2022-12-13 22:30:23 +0000\tmaster-replica-0\t2\t/opt/conda/lib/python3.7/site-packages/sklearn/utils/validation.py:37: DeprecationWarning: distutils Version classes are deprecated. Use packaging.version instead.\n",
      "ERROR\t2022-12-13 22:30:23 +0000\tmaster-replica-0\t2\t  LARGE_SPARSE_SUPPORTED = LooseVersion(scipy_version) >= '0.14.0'\n",
      "ERROR\t2022-12-13 22:30:23 +0000\tmaster-replica-0\t2\t/opt/conda/lib/python3.7/site-packages/sklearn/linear_model/least_angle.py:35: DeprecationWarning: `np.float` is a deprecated alias for the builtin `float`. To silence this warning, use `float` by itself. Doing this will not modify any behavior and is safe. If you specifically wanted the numpy scalar type, use `np.float64` here.\n",
      "ERROR\t2022-12-13 22:30:23 +0000\tmaster-replica-0\t2\tDeprecated in NumPy 1.20; for more details and guidance: https://numpy.org/devdocs/release/1.20.0-notes.html#deprecations\n",
      "ERROR\t2022-12-13 22:30:23 +0000\tmaster-replica-0\t2\t  eps=np.finfo(np.float).eps,\n",
      "ERROR\t2022-12-13 22:30:23 +0000\tmaster-replica-0\t2\t/opt/conda/lib/python3.7/site-packages/sklearn/linear_model/least_angle.py:597: DeprecationWarning: `np.float` is a deprecated alias for the builtin `float`. To silence this warning, use `float` by itself. Doing this will not modify any behavior and is safe. If you specifically wanted the numpy scalar type, use `np.float64` here.\n",
      "ERROR\t2022-12-13 22:30:23 +0000\tmaster-replica-0\t2\tDeprecated in NumPy 1.20; for more details and guidance: https://numpy.org/devdocs/release/1.20.0-notes.html#deprecations\n",
      "ERROR\t2022-12-13 22:30:23 +0000\tmaster-replica-0\t2\t  eps=np.finfo(np.float).eps, copy_X=True, fit_path=True,\n",
      "ERROR\t2022-12-13 22:30:23 +0000\tmaster-replica-0\t2\t/opt/conda/lib/python3.7/site-packages/sklearn/linear_model/least_angle.py:836: DeprecationWarning: `np.float` is a deprecated alias for the builtin `float`. To silence this warning, use `float` by itself. Doing this will not modify any behavior and is safe. If you specifically wanted the numpy scalar type, use `np.float64` here.\n",
      "ERROR\t2022-12-13 22:30:23 +0000\tmaster-replica-0\t2\tDeprecated in NumPy 1.20; for more details and guidance: https://numpy.org/devdocs/release/1.20.0-notes.html#deprecations\n",
      "ERROR\t2022-12-13 22:30:23 +0000\tmaster-replica-0\t2\t  eps=np.finfo(np.float).eps, copy_X=True, fit_path=True,\n",
      "ERROR\t2022-12-13 22:30:23 +0000\tmaster-replica-0\t2\t/opt/conda/lib/python3.7/site-packages/sklearn/linear_model/least_angle.py:862: DeprecationWarning: `np.float` is a deprecated alias for the builtin `float`. To silence this warning, use `float` by itself. Doing this will not modify any behavior and is safe. If you specifically wanted the numpy scalar type, use `np.float64` here.\n",
      "ERROR\t2022-12-13 22:30:23 +0000\tmaster-replica-0\t2\tDeprecated in NumPy 1.20; for more details and guidance: https://numpy.org/devdocs/release/1.20.0-notes.html#deprecations\n",
      "ERROR\t2022-12-13 22:30:23 +0000\tmaster-replica-0\t2\t  eps=np.finfo(np.float).eps, positive=False):\n",
      "ERROR\t2022-12-13 22:30:23 +0000\tmaster-replica-0\t2\t/opt/conda/lib/python3.7/site-packages/sklearn/linear_model/least_angle.py:1097: DeprecationWarning: `np.float` is a deprecated alias for the builtin `float`. To silence this warning, use `float` by itself. Doing this will not modify any behavior and is safe. If you specifically wanted the numpy scalar type, use `np.float64` here.\n",
      "ERROR\t2022-12-13 22:30:23 +0000\tmaster-replica-0\t2\tDeprecated in NumPy 1.20; for more details and guidance: https://numpy.org/devdocs/release/1.20.0-notes.html#deprecations\n",
      "ERROR\t2022-12-13 22:30:23 +0000\tmaster-replica-0\t2\t  max_n_alphas=1000, n_jobs=None, eps=np.finfo(np.float).eps,\n",
      "ERROR\t2022-12-13 22:30:23 +0000\tmaster-replica-0\t2\t/opt/conda/lib/python3.7/site-packages/sklearn/linear_model/least_angle.py:1344: DeprecationWarning: `np.float` is a deprecated alias for the builtin `float`. To silence this warning, use `float` by itself. Doing this will not modify any behavior and is safe. If you specifically wanted the numpy scalar type, use `np.float64` here.\n",
      "ERROR\t2022-12-13 22:30:23 +0000\tmaster-replica-0\t2\tDeprecated in NumPy 1.20; for more details and guidance: https://numpy.org/devdocs/release/1.20.0-notes.html#deprecations\n",
      "ERROR\t2022-12-13 22:30:23 +0000\tmaster-replica-0\t2\t  max_n_alphas=1000, n_jobs=None, eps=np.finfo(np.float).eps,\n",
      "ERROR\t2022-12-13 22:30:23 +0000\tmaster-replica-0\t2\t/opt/conda/lib/python3.7/site-packages/sklearn/linear_model/least_angle.py:1480: DeprecationWarning: `np.float` is a deprecated alias for the builtin `float`. To silence this warning, use `float` by itself. Doing this will not modify any behavior and is safe. If you specifically wanted the numpy scalar type, use `np.float64` here.\n",
      "ERROR\t2022-12-13 22:30:23 +0000\tmaster-replica-0\t2\tDeprecated in NumPy 1.20; for more details and guidance: https://numpy.org/devdocs/release/1.20.0-notes.html#deprecations\n",
      "ERROR\t2022-12-13 22:30:23 +0000\tmaster-replica-0\t2\t  eps=np.finfo(np.float).eps, copy_X=True, positive=False):\n",
      "ERROR\t2022-12-13 22:30:23 +0000\tmaster-replica-0\t2\t/opt/conda/lib/python3.7/site-packages/sklearn/linear_model/randomized_l1.py:152: DeprecationWarning: `np.float` is a deprecated alias for the builtin `float`. To silence this warning, use `float` by itself. Doing this will not modify any behavior and is safe. If you specifically wanted the numpy scalar type, use `np.float64` here.\n",
      "ERROR\t2022-12-13 22:30:23 +0000\tmaster-replica-0\t2\tDeprecated in NumPy 1.20; for more details and guidance: https://numpy.org/devdocs/release/1.20.0-notes.html#deprecations\n",
      "ERROR\t2022-12-13 22:30:23 +0000\tmaster-replica-0\t2\t  precompute=False, eps=np.finfo(np.float).eps,\n",
      "ERROR\t2022-12-13 22:30:23 +0000\tmaster-replica-0\t2\t/opt/conda/lib/python3.7/site-packages/sklearn/linear_model/randomized_l1.py:320: DeprecationWarning: `np.float` is a deprecated alias for the builtin `float`. To silence this warning, use `float` by itself. Doing this will not modify any behavior and is safe. If you specifically wanted the numpy scalar type, use `np.float64` here.\n",
      "ERROR\t2022-12-13 22:30:23 +0000\tmaster-replica-0\t2\tDeprecated in NumPy 1.20; for more details and guidance: https://numpy.org/devdocs/release/1.20.0-notes.html#deprecations\n",
      "ERROR\t2022-12-13 22:30:23 +0000\tmaster-replica-0\t2\t  eps=np.finfo(np.float).eps, random_state=None,\n",
      "ERROR\t2022-12-13 22:30:23 +0000\tmaster-replica-0\t2\t/opt/conda/lib/python3.7/site-packages/sklearn/linear_model/randomized_l1.py:580: DeprecationWarning: `np.float` is a deprecated alias for the builtin `float`. To silence this warning, use `float` by itself. Doing this will not modify any behavior and is safe. If you specifically wanted the numpy scalar type, use `np.float64` here.\n",
      "ERROR\t2022-12-13 22:30:23 +0000\tmaster-replica-0\t2\tDeprecated in NumPy 1.20; for more details and guidance: https://numpy.org/devdocs/release/1.20.0-notes.html#deprecations\n",
      "ERROR\t2022-12-13 22:30:23 +0000\tmaster-replica-0\t2\t  eps=4 * np.finfo(np.float).eps, n_jobs=None,\n",
      "ERROR\t2022-12-13 22:30:23 +0000\tmaster-replica-0\t2\t/opt/conda/lib/python3.7/site-packages/sklearn/utils/validation.py:209: DeprecationWarning: distutils Version classes are deprecated. Use packaging.version instead.\n",
      "ERROR\t2022-12-13 22:30:23 +0000\tmaster-replica-0\t2\t  if LooseVersion(joblib_version) < '0.12':\n",
      "ERROR\t2022-12-13 22:30:23 +0000\tmaster-replica-0\t2\t/opt/conda/lib/python3.7/site-packages/sklearn/preprocessing/_encoders.py:354: DeprecationWarning: `np.int` is a deprecated alias for the builtin `int`. To silence this warning, use `int` by itself. Doing this will not modify any behavior and is safe. When replacing `np.int`, you may wish to use e.g. `np.int64` or `np.int32` to specify the precision. If you wish to review your current use, check the release note link for additional information.\n",
      "ERROR\t2022-12-13 22:30:23 +0000\tmaster-replica-0\t2\tDeprecated in NumPy 1.20; for more details and guidance: https://numpy.org/devdocs/release/1.20.0-notes.html#deprecations\n",
      "ERROR\t2022-12-13 22:30:23 +0000\tmaster-replica-0\t2\t  X = check_array(X, dtype=np.int)\n",
      "ERROR\t2022-12-13 22:30:23 +0000\tmaster-replica-0\t2\t/opt/conda/lib/python3.7/site-packages/sklearn/preprocessing/_encoders.py:95: DeprecationWarning: `np.int` is a deprecated alias for the builtin `int`. To silence this warning, use `int` by itself. Doing this will not modify any behavior and is safe. When replacing `np.int`, you may wish to use e.g. `np.int64` or `np.int32` to specify the precision. If you wish to review your current use, check the release note link for additional information.\n",
      "ERROR\t2022-12-13 22:30:23 +0000\tmaster-replica-0\t2\tDeprecated in NumPy 1.20; for more details and guidance: https://numpy.org/devdocs/release/1.20.0-notes.html#deprecations\n",
      "ERROR\t2022-12-13 22:30:23 +0000\tmaster-replica-0\t2\t  X_int = np.zeros_like(X, dtype=np.int)\n",
      "ERROR\t2022-12-13 22:30:23 +0000\tmaster-replica-0\t2\t/opt/conda/lib/python3.7/site-packages/sklearn/preprocessing/_encoders.py:96: DeprecationWarning: `np.bool` is a deprecated alias for the builtin `bool`. To silence this warning, use `bool` by itself. Doing this will not modify any behavior and is safe. If you specifically wanted the numpy scalar type, use `np.bool_` here.\n",
      "ERROR\t2022-12-13 22:30:23 +0000\tmaster-replica-0\t2\tDeprecated in NumPy 1.20; for more details and guidance: https://numpy.org/devdocs/release/1.20.0-notes.html#deprecations\n",
      "ERROR\t2022-12-13 22:30:23 +0000\tmaster-replica-0\t2\t  X_mask = np.ones_like(X, dtype=np.bool)\n",
      "ERROR\t2022-12-13 22:30:23 +0000\tmaster-replica-0\t2\t/opt/conda/lib/python3.7/site-packages/sklearn/utils/fixes.py:357: DeprecationWarning: distutils Version classes are deprecated. Use packaging.version instead.\n",
      "ERROR\t2022-12-13 22:30:23 +0000\tmaster-replica-0\t2\t  if _joblib.__version__ >= LooseVersion('0.12'):\n",
      "ERROR\t2022-12-13 22:30:23 +0000\tmaster-replica-0\t2\t/opt/conda/lib/python3.7/site-packages/sklearn/preprocessing/_encoders.py:95: DeprecationWarning: `np.int` is a deprecated alias for the builtin `int`. To silence this warning, use `int` by itself. Doing this will not modify any behavior and is safe. When replacing `np.int`, you may wish to use e.g. `np.int64` or `np.int32` to specify the precision. If you wish to review your current use, check the release note link for additional information.\n",
      "ERROR\t2022-12-13 22:30:23 +0000\tmaster-replica-0\t2\tDeprecated in NumPy 1.20; for more details and guidance: https://numpy.org/devdocs/release/1.20.0-notes.html#deprecations\n",
      "ERROR\t2022-12-13 22:30:23 +0000\tmaster-replica-0\t2\t  X_int = np.zeros_like(X, dtype=np.int)\n",
      "ERROR\t2022-12-13 22:30:23 +0000\tmaster-replica-0\t2\t/opt/conda/lib/python3.7/site-packages/sklearn/preprocessing/_encoders.py:96: DeprecationWarning: `np.bool` is a deprecated alias for the builtin `bool`. To silence this warning, use `bool` by itself. Doing this will not modify any behavior and is safe. If you specifically wanted the numpy scalar type, use `np.bool_` here.\n",
      "ERROR\t2022-12-13 22:30:23 +0000\tmaster-replica-0\t2\tDeprecated in NumPy 1.20; for more details and guidance: https://numpy.org/devdocs/release/1.20.0-notes.html#deprecations\n",
      "ERROR\t2022-12-13 22:30:23 +0000\tmaster-replica-0\t2\t  X_mask = np.ones_like(X, dtype=np.bool)\n",
      "INFO\t2022-12-13 22:30:23 +0000\tmaster-replica-0\t2\tStarting training: alpha=0.0007221052872890642, max_iter=200\n",
      "INFO\t2022-12-13 22:30:23 +0000\tmaster-replica-0\t2\tModel accuracy: 0.6941035618078419\n",
      "ERROR\t2022-12-13 22:30:34 +0000\tmaster-replica-0\t4\t/opt/conda/lib/python3.7/site-packages/sklearn/utils/validation.py:37: DeprecationWarning: distutils Version classes are deprecated. Use packaging.version instead.\n",
      "ERROR\t2022-12-13 22:30:34 +0000\tmaster-replica-0\t4\t  LARGE_SPARSE_SUPPORTED = LooseVersion(scipy_version) >= '0.14.0'\n",
      "ERROR\t2022-12-13 22:30:34 +0000\tmaster-replica-0\t4\t/opt/conda/lib/python3.7/site-packages/sklearn/linear_model/least_angle.py:35: DeprecationWarning: `np.float` is a deprecated alias for the builtin `float`. To silence this warning, use `float` by itself. Doing this will not modify any behavior and is safe. If you specifically wanted the numpy scalar type, use `np.float64` here.\n",
      "ERROR\t2022-12-13 22:30:34 +0000\tmaster-replica-0\t4\tDeprecated in NumPy 1.20; for more details and guidance: https://numpy.org/devdocs/release/1.20.0-notes.html#deprecations\n",
      "ERROR\t2022-12-13 22:30:34 +0000\tmaster-replica-0\t4\t  eps=np.finfo(np.float).eps,\n",
      "ERROR\t2022-12-13 22:30:34 +0000\tmaster-replica-0\t4\t/opt/conda/lib/python3.7/site-packages/sklearn/linear_model/least_angle.py:597: DeprecationWarning: `np.float` is a deprecated alias for the builtin `float`. To silence this warning, use `float` by itself. Doing this will not modify any behavior and is safe. If you specifically wanted the numpy scalar type, use `np.float64` here.\n",
      "ERROR\t2022-12-13 22:30:34 +0000\tmaster-replica-0\t4\tDeprecated in NumPy 1.20; for more details and guidance: https://numpy.org/devdocs/release/1.20.0-notes.html#deprecations\n",
      "ERROR\t2022-12-13 22:30:34 +0000\tmaster-replica-0\t4\t  eps=np.finfo(np.float).eps, copy_X=True, fit_path=True,\n",
      "ERROR\t2022-12-13 22:30:34 +0000\tmaster-replica-0\t4\t/opt/conda/lib/python3.7/site-packages/sklearn/linear_model/least_angle.py:836: DeprecationWarning: `np.float` is a deprecated alias for the builtin `float`. To silence this warning, use `float` by itself. Doing this will not modify any behavior and is safe. If you specifically wanted the numpy scalar type, use `np.float64` here.\n",
      "ERROR\t2022-12-13 22:30:34 +0000\tmaster-replica-0\t4\tDeprecated in NumPy 1.20; for more details and guidance: https://numpy.org/devdocs/release/1.20.0-notes.html#deprecations\n",
      "ERROR\t2022-12-13 22:30:34 +0000\tmaster-replica-0\t4\t  eps=np.finfo(np.float).eps, copy_X=True, fit_path=True,\n",
      "ERROR\t2022-12-13 22:30:34 +0000\tmaster-replica-0\t4\t/opt/conda/lib/python3.7/site-packages/sklearn/linear_model/least_angle.py:862: DeprecationWarning: `np.float` is a deprecated alias for the builtin `float`. To silence this warning, use `float` by itself. Doing this will not modify any behavior and is safe. If you specifically wanted the numpy scalar type, use `np.float64` here.\n",
      "ERROR\t2022-12-13 22:30:34 +0000\tmaster-replica-0\t4\tDeprecated in NumPy 1.20; for more details and guidance: https://numpy.org/devdocs/release/1.20.0-notes.html#deprecations\n",
      "ERROR\t2022-12-13 22:30:34 +0000\tmaster-replica-0\t4\t  eps=np.finfo(np.float).eps, positive=False):\n",
      "ERROR\t2022-12-13 22:30:34 +0000\tmaster-replica-0\t4\t/opt/conda/lib/python3.7/site-packages/sklearn/linear_model/least_angle.py:1097: DeprecationWarning: `np.float` is a deprecated alias for the builtin `float`. To silence this warning, use `float` by itself. Doing this will not modify any behavior and is safe. If you specifically wanted the numpy scalar type, use `np.float64` here.\n",
      "ERROR\t2022-12-13 22:30:34 +0000\tmaster-replica-0\t4\tDeprecated in NumPy 1.20; for more details and guidance: https://numpy.org/devdocs/release/1.20.0-notes.html#deprecations\n",
      "ERROR\t2022-12-13 22:30:34 +0000\tmaster-replica-0\t4\t  max_n_alphas=1000, n_jobs=None, eps=np.finfo(np.float).eps,\n",
      "ERROR\t2022-12-13 22:30:34 +0000\tmaster-replica-0\t4\t/opt/conda/lib/python3.7/site-packages/sklearn/linear_model/least_angle.py:1344: DeprecationWarning: `np.float` is a deprecated alias for the builtin `float`. To silence this warning, use `float` by itself. Doing this will not modify any behavior and is safe. If you specifically wanted the numpy scalar type, use `np.float64` here.\n",
      "ERROR\t2022-12-13 22:30:34 +0000\tmaster-replica-0\t4\tDeprecated in NumPy 1.20; for more details and guidance: https://numpy.org/devdocs/release/1.20.0-notes.html#deprecations\n",
      "ERROR\t2022-12-13 22:30:34 +0000\tmaster-replica-0\t4\t  max_n_alphas=1000, n_jobs=None, eps=np.finfo(np.float).eps,\n",
      "ERROR\t2022-12-13 22:30:34 +0000\tmaster-replica-0\t4\t/opt/conda/lib/python3.7/site-packages/sklearn/linear_model/least_angle.py:1480: DeprecationWarning: `np.float` is a deprecated alias for the builtin `float`. To silence this warning, use `float` by itself. Doing this will not modify any behavior and is safe. If you specifically wanted the numpy scalar type, use `np.float64` here.\n",
      "ERROR\t2022-12-13 22:30:34 +0000\tmaster-replica-0\t4\tDeprecated in NumPy 1.20; for more details and guidance: https://numpy.org/devdocs/release/1.20.0-notes.html#deprecations\n",
      "ERROR\t2022-12-13 22:30:34 +0000\tmaster-replica-0\t4\t  eps=np.finfo(np.float).eps, copy_X=True, positive=False):\n",
      "ERROR\t2022-12-13 22:30:34 +0000\tmaster-replica-0\t4\t/opt/conda/lib/python3.7/site-packages/sklearn/linear_model/randomized_l1.py:152: DeprecationWarning: `np.float` is a deprecated alias for the builtin `float`. To silence this warning, use `float` by itself. Doing this will not modify any behavior and is safe. If you specifically wanted the numpy scalar type, use `np.float64` here.\n",
      "ERROR\t2022-12-13 22:30:34 +0000\tmaster-replica-0\t4\tDeprecated in NumPy 1.20; for more details and guidance: https://numpy.org/devdocs/release/1.20.0-notes.html#deprecations\n",
      "ERROR\t2022-12-13 22:30:34 +0000\tmaster-replica-0\t4\t  precompute=False, eps=np.finfo(np.float).eps,\n",
      "ERROR\t2022-12-13 22:30:34 +0000\tmaster-replica-0\t4\t/opt/conda/lib/python3.7/site-packages/sklearn/linear_model/randomized_l1.py:320: DeprecationWarning: `np.float` is a deprecated alias for the builtin `float`. To silence this warning, use `float` by itself. Doing this will not modify any behavior and is safe. If you specifically wanted the numpy scalar type, use `np.float64` here.\n",
      "ERROR\t2022-12-13 22:30:34 +0000\tmaster-replica-0\t4\tDeprecated in NumPy 1.20; for more details and guidance: https://numpy.org/devdocs/release/1.20.0-notes.html#deprecations\n",
      "ERROR\t2022-12-13 22:30:34 +0000\tmaster-replica-0\t4\t  eps=np.finfo(np.float).eps, random_state=None,\n",
      "ERROR\t2022-12-13 22:30:34 +0000\tmaster-replica-0\t4\t/opt/conda/lib/python3.7/site-packages/sklearn/linear_model/randomized_l1.py:580: DeprecationWarning: `np.float` is a deprecated alias for the builtin `float`. To silence this warning, use `float` by itself. Doing this will not modify any behavior and is safe. If you specifically wanted the numpy scalar type, use `np.float64` here.\n",
      "ERROR\t2022-12-13 22:30:34 +0000\tmaster-replica-0\t4\tDeprecated in NumPy 1.20; for more details and guidance: https://numpy.org/devdocs/release/1.20.0-notes.html#deprecations\n",
      "ERROR\t2022-12-13 22:30:34 +0000\tmaster-replica-0\t4\t  eps=4 * np.finfo(np.float).eps, n_jobs=None,\n",
      "ERROR\t2022-12-13 22:30:34 +0000\tmaster-replica-0\t4\t/opt/conda/lib/python3.7/site-packages/sklearn/utils/validation.py:209: DeprecationWarning: distutils Version classes are deprecated. Use packaging.version instead.\n",
      "ERROR\t2022-12-13 22:30:34 +0000\tmaster-replica-0\t4\t  if LooseVersion(joblib_version) < '0.12':\n",
      "ERROR\t2022-12-13 22:30:34 +0000\tmaster-replica-0\t4\t/opt/conda/lib/python3.7/site-packages/sklearn/preprocessing/_encoders.py:354: DeprecationWarning: `np.int` is a deprecated alias for the builtin `int`. To silence this warning, use `int` by itself. Doing this will not modify any behavior and is safe. When replacing `np.int`, you may wish to use e.g. `np.int64` or `np.int32` to specify the precision. If you wish to review your current use, check the release note link for additional information.\n",
      "ERROR\t2022-12-13 22:30:34 +0000\tmaster-replica-0\t4\tDeprecated in NumPy 1.20; for more details and guidance: https://numpy.org/devdocs/release/1.20.0-notes.html#deprecations\n",
      "ERROR\t2022-12-13 22:30:34 +0000\tmaster-replica-0\t4\t  X = check_array(X, dtype=np.int)\n",
      "ERROR\t2022-12-13 22:30:34 +0000\tmaster-replica-0\t4\t/opt/conda/lib/python3.7/site-packages/sklearn/preprocessing/_encoders.py:95: DeprecationWarning: `np.int` is a deprecated alias for the builtin `int`. To silence this warning, use `int` by itself. Doing this will not modify any behavior and is safe. When replacing `np.int`, you may wish to use e.g. `np.int64` or `np.int32` to specify the precision. If you wish to review your current use, check the release note link for additional information.\n",
      "ERROR\t2022-12-13 22:30:34 +0000\tmaster-replica-0\t4\tDeprecated in NumPy 1.20; for more details and guidance: https://numpy.org/devdocs/release/1.20.0-notes.html#deprecations\n",
      "ERROR\t2022-12-13 22:30:34 +0000\tmaster-replica-0\t4\t  X_int = np.zeros_like(X, dtype=np.int)\n",
      "ERROR\t2022-12-13 22:30:34 +0000\tmaster-replica-0\t4\t/opt/conda/lib/python3.7/site-packages/sklearn/preprocessing/_encoders.py:96: DeprecationWarning: `np.bool` is a deprecated alias for the builtin `bool`. To silence this warning, use `bool` by itself. Doing this will not modify any behavior and is safe. If you specifically wanted the numpy scalar type, use `np.bool_` here.\n",
      "ERROR\t2022-12-13 22:30:34 +0000\tmaster-replica-0\t4\tDeprecated in NumPy 1.20; for more details and guidance: https://numpy.org/devdocs/release/1.20.0-notes.html#deprecations\n",
      "ERROR\t2022-12-13 22:30:34 +0000\tmaster-replica-0\t4\t  X_mask = np.ones_like(X, dtype=np.bool)\n",
      "ERROR\t2022-12-13 22:30:34 +0000\tmaster-replica-0\t4\t/opt/conda/lib/python3.7/site-packages/sklearn/utils/fixes.py:357: DeprecationWarning: distutils Version classes are deprecated. Use packaging.version instead.\n",
      "ERROR\t2022-12-13 22:30:34 +0000\tmaster-replica-0\t4\t  if _joblib.__version__ >= LooseVersion('0.12'):\n",
      "ERROR\t2022-12-13 22:30:34 +0000\tmaster-replica-0\t4\t/opt/conda/lib/python3.7/site-packages/sklearn/preprocessing/_encoders.py:95: DeprecationWarning: `np.int` is a deprecated alias for the builtin `int`. To silence this warning, use `int` by itself. Doing this will not modify any behavior and is safe. When replacing `np.int`, you may wish to use e.g. `np.int64` or `np.int32` to specify the precision. If you wish to review your current use, check the release note link for additional information.\n",
      "ERROR\t2022-12-13 22:30:34 +0000\tmaster-replica-0\t4\tDeprecated in NumPy 1.20; for more details and guidance: https://numpy.org/devdocs/release/1.20.0-notes.html#deprecations\n",
      "ERROR\t2022-12-13 22:30:34 +0000\tmaster-replica-0\t4\t  X_int = np.zeros_like(X, dtype=np.int)\n",
      "ERROR\t2022-12-13 22:30:34 +0000\tmaster-replica-0\t4\t/opt/conda/lib/python3.7/site-packages/sklearn/preprocessing/_encoders.py:96: DeprecationWarning: `np.bool` is a deprecated alias for the builtin `bool`. To silence this warning, use `bool` by itself. Doing this will not modify any behavior and is safe. If you specifically wanted the numpy scalar type, use `np.bool_` here.\n",
      "ERROR\t2022-12-13 22:30:34 +0000\tmaster-replica-0\t4\tDeprecated in NumPy 1.20; for more details and guidance: https://numpy.org/devdocs/release/1.20.0-notes.html#deprecations\n",
      "ERROR\t2022-12-13 22:30:34 +0000\tmaster-replica-0\t4\t  X_mask = np.ones_like(X, dtype=np.bool)\n",
      "INFO\t2022-12-13 22:30:34 +0000\tmaster-replica-0\t4\tStarting training: alpha=0.0004951593405571246, max_iter=500\n",
      "INFO\t2022-12-13 22:30:34 +0000\tmaster-replica-0\t4\tModel accuracy: 0.7005886461139379\n",
      "INFO\t2022-12-13 22:35:51 +0000\tservice\t1\tJob completed successfully.\n",
      "INFO\t2022-12-13 22:35:54 +0000\tservice\t3\tJob completed successfully.\n",
      "INFO\t2022-12-13 22:36:02 +0000\tservice\t2\tJob completed successfully.\n",
      "INFO\t2022-12-13 22:36:11 +0000\tservice\t4\tJob completed successfully.\n"
     ]
    }
   ],
   "source": [
    "!gcloud ai-platform jobs stream-logs $JOB_NAME"
   ]
  },
  {
   "cell_type": "markdown",
   "metadata": {},
   "source": [
    "**NOTE: The above AI platform job stream logs will take approximately 5~10 minutes to display.**"
   ]
  },
  {
   "cell_type": "markdown",
   "metadata": {},
   "source": [
    "### Retrieve HP-tuning results."
   ]
  },
  {
   "cell_type": "markdown",
   "metadata": {},
   "source": [
    "After the job completes you can review the results using Google Cloud Console or programatically by calling the AI Platform Training REST end-point."
   ]
  },
  {
   "cell_type": "code",
   "execution_count": 75,
   "metadata": {},
   "outputs": [
    {
     "data": {
      "text/plain": [
       "{'jobId': 'JOB_20221213_222801',\n",
       " 'trainingInput': {'args': ['--training_dataset_path=gs://artifacts.assignment-371420.appspot.com/data/training/dataset.csv',\n",
       "   '--validation_dataset_path=gs://artifacts.assignment-371420.appspot.com/data/validation/dataset.csv',\n",
       "   '--hptune'],\n",
       "  'hyperparameters': {'goal': 'MAXIMIZE',\n",
       "   'params': [{'parameterName': 'max_iter',\n",
       "     'type': 'DISCRETE',\n",
       "     'discreteValues': [200, 500]},\n",
       "    {'parameterName': 'alpha',\n",
       "     'minValue': 1e-05,\n",
       "     'maxValue': 0.001,\n",
       "     'type': 'DOUBLE',\n",
       "     'scaleType': 'UNIT_LINEAR_SCALE'}],\n",
       "   'maxTrials': 4,\n",
       "   'maxParallelTrials': 4,\n",
       "   'hyperparameterMetricTag': 'accuracy',\n",
       "   'enableTrialEarlyStopping': True},\n",
       "  'region': 'us-central1',\n",
       "  'jobDir': 'gs://artifacts.assignment-371420.appspot.com/jobs/JOB_20221213_222801',\n",
       "  'masterConfig': {'imageUri': 'gcr.io/assignment-371420/trainer_image:latest'}},\n",
       " 'createTime': '2022-12-13T22:28:05Z',\n",
       " 'startTime': '2022-12-13T22:28:10Z',\n",
       " 'endTime': '2022-12-13T22:36:57Z',\n",
       " 'state': 'SUCCEEDED',\n",
       " 'trainingOutput': {'completedTrialCount': '4',\n",
       "  'trials': [{'trialId': '3',\n",
       "    'hyperparameters': {'alpha': '0.00026808203072969749', 'max_iter': '200'},\n",
       "    'finalMetric': {'trainingStep': '1', 'objectiveValue': 0.703881073530879},\n",
       "    'startTime': '2022-12-13T22:28:16.898598734Z',\n",
       "    'endTime': '2022-12-13T22:35:54Z',\n",
       "    'state': 'SUCCEEDED'},\n",
       "   {'trialId': '4',\n",
       "    'hyperparameters': {'alpha': '0.00049515934055712461', 'max_iter': '500'},\n",
       "    'finalMetric': {'trainingStep': '1', 'objectiveValue': 0.7005886461139379},\n",
       "    'startTime': '2022-12-13T22:28:16.898713475Z',\n",
       "    'endTime': '2022-12-13T22:36:11Z',\n",
       "    'state': 'SUCCEEDED'},\n",
       "   {'trialId': '1',\n",
       "    'hyperparameters': {'alpha': '0.000505', 'max_iter': '500'},\n",
       "    'finalMetric': {'trainingStep': '1', 'objectiveValue': 0.6977950713359273},\n",
       "    'startTime': '2022-12-13T22:28:16.898274244Z',\n",
       "    'endTime': '2022-12-13T22:35:51Z',\n",
       "    'state': 'SUCCEEDED'},\n",
       "   {'trialId': '2',\n",
       "    'hyperparameters': {'alpha': '0.00072210528728906419', 'max_iter': '200'},\n",
       "    'finalMetric': {'trainingStep': '1', 'objectiveValue': 0.6941035618078419},\n",
       "    'startTime': '2022-12-13T22:28:16.898478437Z',\n",
       "    'endTime': '2022-12-13T22:36:02Z',\n",
       "    'state': 'SUCCEEDED'}],\n",
       "  'consumedMLUnits': 0.26,\n",
       "  'isHyperparameterTuningJob': True,\n",
       "  'hyperparameterMetricTag': 'accuracy'},\n",
       " 'etag': 'unbNkbHadhw=',\n",
       " 'jobPosition': '0'}"
      ]
     },
     "execution_count": 75,
     "metadata": {},
     "output_type": "execute_result"
    }
   ],
   "source": [
    "ml = discovery.build('ml', 'v1')\n",
    "\n",
    "job_id = 'projects/{}/jobs/{}'.format(PROJECT_ID, JOB_NAME)\n",
    "request = ml.projects().jobs().get(name=job_id)\n",
    "\n",
    "try:\n",
    "    response = request.execute()\n",
    "except errors.HttpError as err:\n",
    "    print(err)\n",
    "except:\n",
    "    print(\"Unexpected error\")\n",
    "    \n",
    "response"
   ]
  },
  {
   "cell_type": "markdown",
   "metadata": {},
   "source": [
    "The returned run results are sorted by a value of the optimization metric. The best run is the first item on the returned list."
   ]
  },
  {
   "cell_type": "code",
   "execution_count": 76,
   "metadata": {},
   "outputs": [
    {
     "data": {
      "text/plain": [
       "{'trialId': '3',\n",
       " 'hyperparameters': {'alpha': '0.00026808203072969749', 'max_iter': '200'},\n",
       " 'finalMetric': {'trainingStep': '1', 'objectiveValue': 0.703881073530879},\n",
       " 'startTime': '2022-12-13T22:28:16.898598734Z',\n",
       " 'endTime': '2022-12-13T22:35:54Z',\n",
       " 'state': 'SUCCEEDED'}"
      ]
     },
     "execution_count": 76,
     "metadata": {},
     "output_type": "execute_result"
    }
   ],
   "source": [
    "response['trainingOutput']['trials'][0]"
   ]
  },
  {
   "cell_type": "markdown",
   "metadata": {},
   "source": [
    "## Retrain the model with the best hyperparameters\n",
    "\n",
    "You can now retrain the model using the best hyperparameters and using combined training and validation splits as a training dataset."
   ]
  },
  {
   "cell_type": "markdown",
   "metadata": {},
   "source": [
    "### Configure and run the training job"
   ]
  },
  {
   "cell_type": "code",
   "execution_count": 77,
   "metadata": {},
   "outputs": [],
   "source": [
    "alpha = response['trainingOutput']['trials'][0]['hyperparameters']['alpha']\n",
    "max_iter = response['trainingOutput']['trials'][0]['hyperparameters']['max_iter']"
   ]
  },
  {
   "cell_type": "code",
   "execution_count": 78,
   "metadata": {},
   "outputs": [
    {
     "name": "stdout",
     "output_type": "stream",
     "text": [
      "Job [JOB_20221213_223853] submitted successfully.\n",
      "Your job is still active. You may view the status of your job with the command\n",
      "\n",
      "  $ gcloud ai-platform jobs describe JOB_20221213_223853\n",
      "\n",
      "or continue streaming the logs with the command\n",
      "\n",
      "  $ gcloud ai-platform jobs stream-logs JOB_20221213_223853\n",
      "jobId: JOB_20221213_223853\n",
      "state: QUEUED\n"
     ]
    }
   ],
   "source": [
    "JOB_NAME = \"JOB_{}\".format(time.strftime(\"%Y%m%d_%H%M%S\"))\n",
    "JOB_DIR = \"{}/{}\".format(JOB_DIR_ROOT, JOB_NAME)\n",
    "SCALE_TIER = \"BASIC\"\n",
    "\n",
    "!gcloud ai-platform jobs submit training $JOB_NAME \\\n",
    "--region=$REGION \\\n",
    "--job-dir=$JOB_DIR \\\n",
    "--master-image-uri=$IMAGE_URI \\\n",
    "--scale-tier=$SCALE_TIER \\\n",
    "-- \\\n",
    "--training_dataset_path=$TRAINING_FILE_PATH \\\n",
    "--validation_dataset_path=$VALIDATION_FILE_PATH \\\n",
    "--alpha=$alpha \\\n",
    "--max_iter=$max_iter \\\n",
    "--nohptune"
   ]
  },
  {
   "cell_type": "code",
   "execution_count": 79,
   "metadata": {},
   "outputs": [
    {
     "name": "stdout",
     "output_type": "stream",
     "text": [
      "INFO\t2022-12-13 22:38:56 +0000\tservice\t\tValidating job requirements...\n",
      "INFO\t2022-12-13 22:38:56 +0000\tservice\t\tJob creation request has been successfully validated.\n",
      "INFO\t2022-12-13 22:38:56 +0000\tservice\t\tWaiting for job to be provisioned.\n",
      "INFO\t2022-12-13 22:38:56 +0000\tservice\t\tJob JOB_20221213_223853 is queued.\n",
      "INFO\t2022-12-13 22:38:58 +0000\tservice\t\tWaiting for training program to start.\n",
      "NOTICE\t2022-12-13 22:39:32 +0000\tmaster-replica-0.gcsfuse\t\tOpening GCS connection...\n",
      "NOTICE\t2022-12-13 22:39:32 +0000\tmaster-replica-0.gcsfuse\t\tMounting file system \"gcsfuse\"...\n",
      "NOTICE\t2022-12-13 22:39:32 +0000\tmaster-replica-0.gcsfuse\t\tFile system has been successfully mounted.\n",
      "INFO\t2022-12-13 22:41:06 +0000\tmaster-replica-0\t\tCopying file://model.pkl [Content-Type=application/octet-stream]...\n",
      "INFO\t2022-12-13 22:41:06 +0000\tmaster-replica-0\t\t/ [0 files][    0.0 B/  6.2 KiB]                                                \n",
      "INFO\t2022-12-13 22:41:06 +0000\tmaster-replica-0\t\t/ [1 files][  6.2 KiB/  6.2 KiB]                                                \n",
      "INFO\t2022-12-13 22:41:06 +0000\tmaster-replica-0\t\tOperation completed over 1 objects/6.2 KiB.                                      \n",
      "ERROR\t2022-12-13 22:41:06 +0000\tmaster-replica-0\t\t/opt/conda/lib/python3.7/site-packages/sklearn/utils/validation.py:37: DeprecationWarning: distutils Version classes are deprecated. Use packaging.version instead.\n",
      "ERROR\t2022-12-13 22:41:06 +0000\tmaster-replica-0\t\t  LARGE_SPARSE_SUPPORTED = LooseVersion(scipy_version) >= '0.14.0'\n",
      "ERROR\t2022-12-13 22:41:06 +0000\tmaster-replica-0\t\t/opt/conda/lib/python3.7/site-packages/sklearn/linear_model/least_angle.py:35: DeprecationWarning: `np.float` is a deprecated alias for the builtin `float`. To silence this warning, use `float` by itself. Doing this will not modify any behavior and is safe. If you specifically wanted the numpy scalar type, use `np.float64` here.\n",
      "INFO\t2022-12-13 22:41:06 +0000\tmaster-replica-0\t\tStarting training: alpha=0.0002680820307296975, max_iter=200\n",
      "ERROR\t2022-12-13 22:41:06 +0000\tmaster-replica-0\t\tDeprecated in NumPy 1.20; for more details and guidance: https://numpy.org/devdocs/release/1.20.0-notes.html#deprecations\n",
      "ERROR\t2022-12-13 22:41:06 +0000\tmaster-replica-0\t\t  eps=np.finfo(np.float).eps,\n",
      "ERROR\t2022-12-13 22:41:06 +0000\tmaster-replica-0\t\t/opt/conda/lib/python3.7/site-packages/sklearn/linear_model/least_angle.py:597: DeprecationWarning: `np.float` is a deprecated alias for the builtin `float`. To silence this warning, use `float` by itself. Doing this will not modify any behavior and is safe. If you specifically wanted the numpy scalar type, use `np.float64` here.\n",
      "ERROR\t2022-12-13 22:41:06 +0000\tmaster-replica-0\t\tDeprecated in NumPy 1.20; for more details and guidance: https://numpy.org/devdocs/release/1.20.0-notes.html#deprecations\n",
      "ERROR\t2022-12-13 22:41:06 +0000\tmaster-replica-0\t\t  eps=np.finfo(np.float).eps, copy_X=True, fit_path=True,\n",
      "ERROR\t2022-12-13 22:41:06 +0000\tmaster-replica-0\t\t/opt/conda/lib/python3.7/site-packages/sklearn/linear_model/least_angle.py:836: DeprecationWarning: `np.float` is a deprecated alias for the builtin `float`. To silence this warning, use `float` by itself. Doing this will not modify any behavior and is safe. If you specifically wanted the numpy scalar type, use `np.float64` here.\n",
      "ERROR\t2022-12-13 22:41:06 +0000\tmaster-replica-0\t\tDeprecated in NumPy 1.20; for more details and guidance: https://numpy.org/devdocs/release/1.20.0-notes.html#deprecations\n",
      "ERROR\t2022-12-13 22:41:06 +0000\tmaster-replica-0\t\t  eps=np.finfo(np.float).eps, copy_X=True, fit_path=True,\n",
      "ERROR\t2022-12-13 22:41:06 +0000\tmaster-replica-0\t\t/opt/conda/lib/python3.7/site-packages/sklearn/linear_model/least_angle.py:862: DeprecationWarning: `np.float` is a deprecated alias for the builtin `float`. To silence this warning, use `float` by itself. Doing this will not modify any behavior and is safe. If you specifically wanted the numpy scalar type, use `np.float64` here.\n",
      "ERROR\t2022-12-13 22:41:06 +0000\tmaster-replica-0\t\tDeprecated in NumPy 1.20; for more details and guidance: https://numpy.org/devdocs/release/1.20.0-notes.html#deprecations\n",
      "ERROR\t2022-12-13 22:41:06 +0000\tmaster-replica-0\t\t  eps=np.finfo(np.float).eps, positive=False):\n",
      "ERROR\t2022-12-13 22:41:06 +0000\tmaster-replica-0\t\t/opt/conda/lib/python3.7/site-packages/sklearn/linear_model/least_angle.py:1097: DeprecationWarning: `np.float` is a deprecated alias for the builtin `float`. To silence this warning, use `float` by itself. Doing this will not modify any behavior and is safe. If you specifically wanted the numpy scalar type, use `np.float64` here.\n",
      "ERROR\t2022-12-13 22:41:06 +0000\tmaster-replica-0\t\tDeprecated in NumPy 1.20; for more details and guidance: https://numpy.org/devdocs/release/1.20.0-notes.html#deprecations\n",
      "ERROR\t2022-12-13 22:41:06 +0000\tmaster-replica-0\t\t  max_n_alphas=1000, n_jobs=None, eps=np.finfo(np.float).eps,\n",
      "ERROR\t2022-12-13 22:41:06 +0000\tmaster-replica-0\t\t/opt/conda/lib/python3.7/site-packages/sklearn/linear_model/least_angle.py:1344: DeprecationWarning: `np.float` is a deprecated alias for the builtin `float`. To silence this warning, use `float` by itself. Doing this will not modify any behavior and is safe. If you specifically wanted the numpy scalar type, use `np.float64` here.\n",
      "ERROR\t2022-12-13 22:41:06 +0000\tmaster-replica-0\t\tDeprecated in NumPy 1.20; for more details and guidance: https://numpy.org/devdocs/release/1.20.0-notes.html#deprecations\n",
      "ERROR\t2022-12-13 22:41:06 +0000\tmaster-replica-0\t\t  max_n_alphas=1000, n_jobs=None, eps=np.finfo(np.float).eps,\n",
      "ERROR\t2022-12-13 22:41:06 +0000\tmaster-replica-0\t\t/opt/conda/lib/python3.7/site-packages/sklearn/linear_model/least_angle.py:1480: DeprecationWarning: `np.float` is a deprecated alias for the builtin `float`. To silence this warning, use `float` by itself. Doing this will not modify any behavior and is safe. If you specifically wanted the numpy scalar type, use `np.float64` here.\n",
      "ERROR\t2022-12-13 22:41:06 +0000\tmaster-replica-0\t\tDeprecated in NumPy 1.20; for more details and guidance: https://numpy.org/devdocs/release/1.20.0-notes.html#deprecations\n",
      "ERROR\t2022-12-13 22:41:06 +0000\tmaster-replica-0\t\t  eps=np.finfo(np.float).eps, copy_X=True, positive=False):\n",
      "ERROR\t2022-12-13 22:41:06 +0000\tmaster-replica-0\t\t/opt/conda/lib/python3.7/site-packages/sklearn/linear_model/randomized_l1.py:152: DeprecationWarning: `np.float` is a deprecated alias for the builtin `float`. To silence this warning, use `float` by itself. Doing this will not modify any behavior and is safe. If you specifically wanted the numpy scalar type, use `np.float64` here.\n",
      "ERROR\t2022-12-13 22:41:06 +0000\tmaster-replica-0\t\tDeprecated in NumPy 1.20; for more details and guidance: https://numpy.org/devdocs/release/1.20.0-notes.html#deprecations\n",
      "ERROR\t2022-12-13 22:41:06 +0000\tmaster-replica-0\t\t  precompute=False, eps=np.finfo(np.float).eps,\n",
      "ERROR\t2022-12-13 22:41:06 +0000\tmaster-replica-0\t\t/opt/conda/lib/python3.7/site-packages/sklearn/linear_model/randomized_l1.py:320: DeprecationWarning: `np.float` is a deprecated alias for the builtin `float`. To silence this warning, use `float` by itself. Doing this will not modify any behavior and is safe. If you specifically wanted the numpy scalar type, use `np.float64` here.\n",
      "ERROR\t2022-12-13 22:41:06 +0000\tmaster-replica-0\t\tDeprecated in NumPy 1.20; for more details and guidance: https://numpy.org/devdocs/release/1.20.0-notes.html#deprecations\n",
      "ERROR\t2022-12-13 22:41:06 +0000\tmaster-replica-0\t\t  eps=np.finfo(np.float).eps, random_state=None,\n",
      "ERROR\t2022-12-13 22:41:06 +0000\tmaster-replica-0\t\t/opt/conda/lib/python3.7/site-packages/sklearn/linear_model/randomized_l1.py:580: DeprecationWarning: `np.float` is a deprecated alias for the builtin `float`. To silence this warning, use `float` by itself. Doing this will not modify any behavior and is safe. If you specifically wanted the numpy scalar type, use `np.float64` here.\n",
      "ERROR\t2022-12-13 22:41:06 +0000\tmaster-replica-0\t\tDeprecated in NumPy 1.20; for more details and guidance: https://numpy.org/devdocs/release/1.20.0-notes.html#deprecations\n",
      "ERROR\t2022-12-13 22:41:06 +0000\tmaster-replica-0\t\t  eps=4 * np.finfo(np.float).eps, n_jobs=None,\n",
      "ERROR\t2022-12-13 22:41:06 +0000\tmaster-replica-0\t\t/opt/conda/lib/python3.7/site-packages/sklearn/utils/validation.py:209: DeprecationWarning: distutils Version classes are deprecated. Use packaging.version instead.\n",
      "ERROR\t2022-12-13 22:41:06 +0000\tmaster-replica-0\t\t  if LooseVersion(joblib_version) < '0.12':\n",
      "ERROR\t2022-12-13 22:41:06 +0000\tmaster-replica-0\t\t/opt/conda/lib/python3.7/site-packages/sklearn/preprocessing/_encoders.py:354: DeprecationWarning: `np.int` is a deprecated alias for the builtin `int`. To silence this warning, use `int` by itself. Doing this will not modify any behavior and is safe. When replacing `np.int`, you may wish to use e.g. `np.int64` or `np.int32` to specify the precision. If you wish to review your current use, check the release note link for additional information.\n",
      "ERROR\t2022-12-13 22:41:06 +0000\tmaster-replica-0\t\tDeprecated in NumPy 1.20; for more details and guidance: https://numpy.org/devdocs/release/1.20.0-notes.html#deprecations\n",
      "ERROR\t2022-12-13 22:41:06 +0000\tmaster-replica-0\t\t  X = check_array(X, dtype=np.int)\n",
      "ERROR\t2022-12-13 22:41:06 +0000\tmaster-replica-0\t\t/opt/conda/lib/python3.7/site-packages/sklearn/preprocessing/_encoders.py:95: DeprecationWarning: `np.int` is a deprecated alias for the builtin `int`. To silence this warning, use `int` by itself. Doing this will not modify any behavior and is safe. When replacing `np.int`, you may wish to use e.g. `np.int64` or `np.int32` to specify the precision. If you wish to review your current use, check the release note link for additional information.\n",
      "ERROR\t2022-12-13 22:41:06 +0000\tmaster-replica-0\t\tDeprecated in NumPy 1.20; for more details and guidance: https://numpy.org/devdocs/release/1.20.0-notes.html#deprecations\n",
      "ERROR\t2022-12-13 22:41:06 +0000\tmaster-replica-0\t\t  X_int = np.zeros_like(X, dtype=np.int)\n",
      "ERROR\t2022-12-13 22:41:06 +0000\tmaster-replica-0\t\t/opt/conda/lib/python3.7/site-packages/sklearn/preprocessing/_encoders.py:96: DeprecationWarning: `np.bool` is a deprecated alias for the builtin `bool`. To silence this warning, use `bool` by itself. Doing this will not modify any behavior and is safe. If you specifically wanted the numpy scalar type, use `np.bool_` here.\n",
      "ERROR\t2022-12-13 22:41:06 +0000\tmaster-replica-0\t\tDeprecated in NumPy 1.20; for more details and guidance: https://numpy.org/devdocs/release/1.20.0-notes.html#deprecations\n",
      "ERROR\t2022-12-13 22:41:06 +0000\tmaster-replica-0\t\t  X_mask = np.ones_like(X, dtype=np.bool)\n",
      "ERROR\t2022-12-13 22:41:06 +0000\tmaster-replica-0\t\t/opt/conda/lib/python3.7/site-packages/sklearn/utils/fixes.py:357: DeprecationWarning: distutils Version classes are deprecated. Use packaging.version instead.\n",
      "ERROR\t2022-12-13 22:41:06 +0000\tmaster-replica-0\t\t  if _joblib.__version__ >= LooseVersion('0.12'):\n",
      "INFO\t2022-12-13 22:41:06 +0000\tmaster-replica-0\t\tSaved model in: gs://artifacts.assignment-371420.appspot.com/jobs/JOB_20221213_223853/model.pkl\n"
     ]
    }
   ],
   "source": [
    "!gcloud ai-platform jobs stream-logs $JOB_NAME"
   ]
  },
  {
   "cell_type": "markdown",
   "metadata": {},
   "source": [
    "**NOTE: The above AI platform job stream logs will take approximately 5~10 minutes to display.**"
   ]
  },
  {
   "cell_type": "markdown",
   "metadata": {},
   "source": [
    "### Examine the training output\n",
    "\n",
    "The training script saved the trained model as the 'model.pkl' in the `JOB_DIR` folder on Cloud Storage."
   ]
  },
  {
   "cell_type": "code",
   "execution_count": 80,
   "metadata": {},
   "outputs": [
    {
     "name": "stdout",
     "output_type": "stream",
     "text": [
      "gs://artifacts.assignment-371420.appspot.com/jobs/JOB_20221213_223853/model.pkl\n"
     ]
    }
   ],
   "source": [
    "!gsutil ls $JOB_DIR"
   ]
  },
  {
   "cell_type": "markdown",
   "metadata": {},
   "source": [
    "## Deploy the model to AI Platform Prediction"
   ]
  },
  {
   "cell_type": "markdown",
   "metadata": {},
   "source": [
    "### Create a model resource\n",
    "\n",
    "Use the gcloud command to create a model with model_name in $REGION tagged with labels."
   ]
  },
  {
   "cell_type": "code",
   "execution_count": 81,
   "metadata": {},
   "outputs": [
    {
     "name": "stdout",
     "output_type": "stream",
     "text": [
      "Using endpoint [https://ml.googleapis.com/]\n",
      "\u001b[1;31mERROR:\u001b[0m (gcloud.ai-platform.models.create) Resource in projects [assignment-371420] is the subject of a conflict: Field: model.name Error: A model with the same name already exists.\n",
      "- '@type': type.googleapis.com/google.rpc.BadRequest\n",
      "  fieldViolations:\n",
      "  - description: A model with the same name already exists.\n",
      "    field: model.name\n"
     ]
    }
   ],
   "source": [
    "model_name = 'forest_cover_classifier'\n",
    "labels = \"task=classifier,domain=forestry\"\n",
    "\n",
    "!gcloud ai-platform models create  $model_name \\\n",
    " --regions=$REGION \\\n",
    " --labels=$labels"
   ]
  },
  {
   "cell_type": "markdown",
   "metadata": {},
   "source": [
    "### Create a model version\n",
    "\n",
    "Use the gcloud command to create a version of the model.\n",
    "\n"
   ]
  },
  {
   "cell_type": "code",
   "execution_count": 82,
   "metadata": {},
   "outputs": [
    {
     "name": "stdout",
     "output_type": "stream",
     "text": [
      "Using endpoint [https://ml.googleapis.com/]\n",
      "\u001b[1;31mERROR:\u001b[0m (gcloud.ai-platform.versions.create) ALREADY_EXISTS: Field: version.name Error: A version with the same name already exists.\n",
      "- '@type': type.googleapis.com/google.rpc.BadRequest\n",
      "  fieldViolations:\n",
      "  - description: A version with the same name already exists.\n",
      "    field: version.name\n"
     ]
    }
   ],
   "source": [
    "model_version = 'v01'\n",
    "\n",
    "!gcloud ai-platform versions create {model_version} \\\n",
    " --model={model_name} \\\n",
    " --origin=$JOB_DIR \\\n",
    " --runtime-version=1.15 \\\n",
    " --framework=scikit-learn \\\n",
    " --python-version=3.7\\\n",
    " --region global"
   ]
  },
  {
   "cell_type": "markdown",
   "metadata": {},
   "source": [
    "### Serve predictions\n",
    "#### Prepare the input file with JSON formated instances."
   ]
  },
  {
   "cell_type": "code",
   "execution_count": 83,
   "metadata": {},
   "outputs": [],
   "source": [
    "input_file = 'serving_instances.json'\n",
    "\n",
    "with open(input_file, 'w') as f:\n",
    "    for index, row in X_validation.head().iterrows():\n",
    "        f.write(json.dumps(list(row.values)))\n",
    "        f.write('\\n')"
   ]
  },
  {
   "cell_type": "code",
   "execution_count": 84,
   "metadata": {},
   "outputs": [
    {
     "name": "stdout",
     "output_type": "stream",
     "text": [
      "[3020.0, 135.0, 0.0, 0.0, 0.0, 4265.0, 219.0, 238.0, 156.0, 1015.0, \"Rawah\", \"C7101\"]\n",
      "[2926.0, 0.0, 0.0, 192.0, 7.0, 3930.0, 218.0, 238.0, 156.0, 6432.0, \"Rawah\", \"C7102\"]\n",
      "[3139.0, 0.0, 0.0, 0.0, 0.0, 2171.0, 218.0, 238.0, 156.0, 2636.0, \"Rawah\", \"C7202\"]\n",
      "[2907.0, 0.0, 0.0, 560.0, 35.0, 3027.0, 218.0, 238.0, 156.0, 2054.0, \"Rawah\", \"C7745\"]\n",
      "[3000.0, 270.0, 0.0, 313.0, 48.0, 4228.0, 217.0, 238.0, 158.0, 2089.0, \"Rawah\", \"C7745\"]\n"
     ]
    }
   ],
   "source": [
    "!cat $input_file"
   ]
  },
  {
   "cell_type": "markdown",
   "metadata": {},
   "source": [
    "#### Invoke the model\n",
    "\n",
    "Use the gcloud command send the data in $input_file to your model deployed as a REST API."
   ]
  },
  {
   "cell_type": "code",
   "execution_count": 85,
   "metadata": {},
   "outputs": [
    {
     "name": "stdout",
     "output_type": "stream",
     "text": [
      "Using endpoint [https://ml.googleapis.com/]\n",
      "[0, 1, 0, 1, 1]\n"
     ]
    }
   ],
   "source": [
    "!gcloud ai-platform predict \\\n",
    "--model $model_name \\\n",
    "--version $model_version \\\n",
    "--json-instances $input_file\\\n",
    "--region global"
   ]
  },
  {
   "cell_type": "markdown",
   "metadata": {},
   "source": [
    "<font size=-1>Licensed under the Apache License, Version 2.0 (the \\\"License\\\");\n",
    "you may not use this file except in compliance with the License.\n",
    "You may obtain a copy of the License at [https://www.apache.org/licenses/LICENSE-2.0](https://www.apache.org/licenses/LICENSE-2.0)\n",
    "\n",
    "Unless required by applicable law or agreed to in writing, software distributed under the License is distributed on an \\\"AS IS\\\" BASIS, WITHOUT WARRANTIES OR CONDITIONS OF ANY KIND, either express or implied.  See the License for the specific language governing permissions and limitations under the License.</font>"
   ]
  }
 ],
 "metadata": {
  "kernelspec": {
   "display_name": "Python 3 (ipykernel) (Local)",
   "language": "python",
   "name": "local-python3"
  },
  "language_info": {
   "codemirror_mode": {
    "name": "ipython",
    "version": 3
   },
   "file_extension": ".py",
   "mimetype": "text/x-python",
   "name": "python",
   "nbconvert_exporter": "python",
   "pygments_lexer": "ipython3",
   "version": "3.7.12"
  }
 },
 "nbformat": 4,
 "nbformat_minor": 4
}
